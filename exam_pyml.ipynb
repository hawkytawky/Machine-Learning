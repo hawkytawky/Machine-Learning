{
 "cells": [
  {
   "cell_type": "markdown",
   "metadata": {},
   "source": [
    "## Before you start working on the exercise\n",
    "\n",
    "- Use Python version 3.7 up to 3.9. Make sure not to use Python 3.10\n",
    "- It is highly recommended to create a virtual environment for this course. You can find resources on how to create a virtual environment on the ISIS page of the course.\n",
    "- Make sure that no assertions fail or exceptions occur, otherwise points will be subtracted.\n",
    "- Use all the variables given to a function unless explicitly stated otherwise. If you are not using a variable you are doing something wrong.\n",
    "- Read the **whole** task description before starting with your solution.\n",
    "- After you submit the notebook more tests will be run on your code. The fact that no assertions fail on your computer locally does not guarantee that you completed the exercise correctly.\n",
    "- Please submit only the notebook file with its original name. If you do not submit an `ipynb` file you will fail the exercise.\n",
    "- Edit only between YOUR CODE HERE and END YOUR CODE.\n",
    "- Verify that no syntax errors are present in the file.\n",
    "- Before uploading your submission, make sure everything runs as expected. First, restart the kernel (in the menubar, select Kernel\\Restart) and then run all cells (in the menubar, select Cell\\Run All)."
   ]
  },
  {
   "cell_type": "code",
   "execution_count": 7,
   "metadata": {},
   "outputs": [
    {
     "name": "stdout",
     "output_type": "stream",
     "text": [
      "Correct Python version\n"
     ]
    }
   ],
   "source": [
    "import sys\n",
    "\n",
    "if (3,7) <= sys.version_info[:2] <= (3, 9):\n",
    "    print(\"Correct Python version\")\n",
    "else:\n",
    "    print(f\"You are using a wrong version of Python: {'.'.join(map(str,sys.version_info[:3]))}\")"
   ]
  },
  {
   "cell_type": "markdown",
   "metadata": {},
   "source": [
    "$$\\Large\\textbf{Python Programming for Machine Learning}$$\n",
    "\n",
    "\n",
    "\n",
    "$$\\Large\\textbf{Exam}$$\n",
    "<hr>\n",
    "\n",
    "<img src='TU.png' width='200'>\n",
    "<br>\n",
    "\n",
    "$$\\text{Department of Intelligent Data Analysis and Machine Learning}$$\n",
    "\n",
    "<br>\n",
    "$${14\\text{th of February}\\> 2022}$$\n",
    "\n",
    "<hr>\n",
    "\n",
    "### Read before starting with the exam!\n",
    "\n",
    "The exam has a similar format to the exercise sheets you completed throught the course.\n",
    "\n",
    "Each exercise consists of: \n",
    "- Explanation \n",
    "- Implementation\n",
    "- Overwrite\n",
    "\n",
    "The overwrite part means that after your function has been tested the expected value will be placed in the corresponding variables, so that **if you get stuck you can continue with the next exercise**. Even if your solution is not correct and does not pass all the tests it will receive partial credit for the correct parts.\n",
    "\n",
    "#### If a solution cell does not compile (results in a `SystaxError`) it will receive **ZERO (0)** credits, even if the implementation is principally correct.\n",
    "\n",
    "For each exercise there will be a maximum number of loops allowed. If your function contains more loops than allowed, you will be notified during the function definition, and the function will automatically fail in the tests. Note that \"unrolling a loop\" (repeating a line many times) is also considered a loop.\n",
    "\n",
    "For technical reasons the following functions are **banned** throughout the notebook.\n",
    "\n",
    "- map\n",
    "- sum (but np.sum is allowed)\n",
    "- filter\n",
    "- np.vectorize\n",
    "- np.fromiter\n",
    "- np.fromfunction\n",
    "- np.apply_along_axis\n",
    "\n",
    "**If you use any of these functions in your solution will receive 0 points**.\n",
    "\n",
    "**Important:** \n",
    "   \n",
    "- Execute every cell in the notebook. You may also try to restart your kernel and execute all cells, in case something went wrong.\n",
    "\n",
    "- If you were not able to implement one function you may proceed with a next exercise by using data generated from the _expected_ output functions.\n",
    "### Personal student information\n",
    "\n",
    "In the following cell please fill in your **real** personal information. Make sure that the code compiles. This information may be used later for you class certificates.\n"
   ]
  },
  {
   "cell_type": "code",
   "execution_count": 8,
   "metadata": {},
   "outputs": [],
   "source": [
    "NAME = \"Philipp\"  # your first name\n",
    "MID_NAME = \"\"  # your middle or empty string ''\n",
    "SURNAME = \"Habicht\"  # your last name\n",
    "\n",
    "MATRICULATION_NUMBER = 621854  # e.g. 412342 as integer\n",
    "\n",
    "HOME_UNIVERSITY = \"HU Berlin\"  # e.g. TU Berlin, HU Berlin, Uni Potsdam, etc...\n",
    "MODULE_NAME = \"ML-1\"  # e.g CA, ML-1, ML-2, Standalone\n",
    "COURSE_OF_STUDY = \"Statistics\"  # e.g. Mathematics, Computer Science, Physics, etc...\n",
    "DEGREE = \"Master\"  # e.g. Erasmus, Bachelor, Diplom, Master, PhD or Guest (all others)"
   ]
  },
  {
   "cell_type": "code",
   "execution_count": 9,
   "metadata": {
    "deletable": false,
    "editable": false,
    "nbgrader": {
     "cell_type": "code",
     "checksum": "3a9f15b2ba197300cf1db374f79f014a",
     "grade": false,
     "grade_id": "cell-8733415e82df4138",
     "locked": true,
     "schema_version": 3,
     "solution": false,
     "task": false
    }
   },
   "outputs": [
    {
     "data": {
      "text/markdown": [
       "## Hello Philipp  Habicht \n",
       "### Your matriculation number is 621854 \n",
       "### You study at HU Berlin Statistics Master \n",
       "### Module name: ML-1\n",
       "## [zoom exam room](https://tu-berlin.zoom.us/j/61015073886?pwd=SGJEUXhxY0tTWkROL1ZsaDlma3haUT09)\n",
       "## password: 426937"
      ],
      "text/plain": [
       "<IPython.core.display.Markdown object>"
      ]
     },
     "execution_count": 9,
     "metadata": {},
     "output_type": "execute_result"
    }
   ],
   "source": [
    "from IPython.display import Markdown as md\n",
    "\n",
    "md(\n",
    "    f\"## Hello {NAME} {MID_NAME} {SURNAME} \\n\"\n",
    "    f\"### Your matriculation number is {MATRICULATION_NUMBER} \\n\"\n",
    "    f\"### You study at {HOME_UNIVERSITY} {COURSE_OF_STUDY} {DEGREE} \\n\"\n",
    "    f\"### Module name: {MODULE_NAME}\\n\"\n",
    "    \"## [zoom exam room](https://tu-berlin.zoom.us/j/61015073886?pwd=SGJEUXhxY0tTWkROL1ZsaDlma3haUT09)\\n\"\n",
    "    \"## password: 426937\"\n",
    ")"
   ]
  },
  {
   "cell_type": "code",
   "execution_count": 10,
   "metadata": {
    "deletable": false,
    "editable": false,
    "nbgrader": {
     "cell_type": "code",
     "checksum": "48f71b67cf601f28ec82932594e12195",
     "grade": true,
     "grade_id": "cell-faf632d48bebcfdc",
     "locked": true,
     "points": 0,
     "schema_version": 3,
     "solution": false,
     "task": false
    }
   },
   "outputs": [
    {
     "ename": "ModuleNotFoundError",
     "evalue": "No module named 'minified'",
     "output_type": "error",
     "traceback": [
      "\u001b[0;31m---------------------------------------------------------------------------\u001b[0m",
      "\u001b[0;31mModuleNotFoundError\u001b[0m                       Traceback (most recent call last)",
      "\u001b[0;32m<ipython-input-10-b1ea121e9c67>\u001b[0m in \u001b[0;36m<module>\u001b[0;34m\u001b[0m\n\u001b[1;32m      5\u001b[0m \u001b[0;32mfrom\u001b[0m \u001b[0munittest\u001b[0m \u001b[0;32mimport\u001b[0m \u001b[0mTestCase\u001b[0m\u001b[0;34m\u001b[0m\u001b[0;34m\u001b[0m\u001b[0m\n\u001b[1;32m      6\u001b[0m \u001b[0;34m\u001b[0m\u001b[0m\n\u001b[0;32m----> 7\u001b[0;31m \u001b[0;32mfrom\u001b[0m \u001b[0mminified\u001b[0m \u001b[0;32mimport\u001b[0m \u001b[0mmax_allowed_loops\u001b[0m\u001b[0;34m,\u001b[0m \u001b[0moverwrite\u001b[0m\u001b[0;34m\u001b[0m\u001b[0;34m\u001b[0m\u001b[0m\n\u001b[0m\u001b[1;32m      8\u001b[0m \u001b[0;34m\u001b[0m\u001b[0m\n\u001b[1;32m      9\u001b[0m \u001b[0mt\u001b[0m \u001b[0;34m=\u001b[0m \u001b[0mTestCase\u001b[0m\u001b[0;34m(\u001b[0m\u001b[0;34m)\u001b[0m\u001b[0;34m\u001b[0m\u001b[0;34m\u001b[0m\u001b[0m\n",
      "\u001b[0;31mModuleNotFoundError\u001b[0m: No module named 'minified'"
     ]
    }
   ],
   "source": [
    "# setup\n",
    "import numpy as np\n",
    "import pandas as pd\n",
    "from typing import Sequence, List, Tuple, Callable\n",
    "from unittest import TestCase\n",
    "\n",
    "from minified import max_allowed_loops, overwrite\n",
    "\n",
    "t = TestCase()"
   ]
  },
  {
   "cell_type": "markdown",
   "metadata": {
    "deletable": false,
    "editable": false,
    "nbgrader": {
     "cell_type": "markdown",
     "checksum": "8efb6ecfb02120454575ca2f971a897f",
     "grade": false,
     "grade_id": "cell-dd8ca81ffd73603c",
     "locked": true,
     "schema_version": 3,
     "solution": false,
     "task": false
    }
   },
   "source": [
    "# Exercise 1: Load data with Pandas (25 Points)\n",
    "\n",
    "\n",
    "\n",
    "### Exercise 1.1: Read Data ( 5 points ) \n",
    "\n",
    "\n",
    "Use pandas (`pd`) to read the data and store it in a variable `data`.\n",
    "* The data is in a file called `iris.csv`.\n",
    "* Use the given headers for the names of the columns.\n",
    "* The headers are `'sepal length', 'sepal width', 'petal length', 'petal width', 'class'`. They are stored in the variable `headers`.\n",
    "\n",
    "\n",
    "* Number of loops allowed in this exercise: 0\n",
    "\n",
    "<br> "
   ]
  },
  {
   "cell_type": "code",
   "execution_count": 5,
   "metadata": {
    "deletable": false,
    "editable": false,
    "nbgrader": {
     "cell_type": "code",
     "checksum": "f4c7b39cd296ceac8add052d8ea86dcf",
     "grade": false,
     "grade_id": "cell-711e43da1414d09f",
     "locked": true,
     "schema_version": 3,
     "solution": false,
     "task": false
    }
   },
   "outputs": [],
   "source": [
    "headers = [\"sepal length\", \"sepal width\", \"petal length\", \"petal width\", \"class\"]\n",
    "tiny_headers = [\"name\", \"wins\", \"championships\", \"class\"]\n",
    "tiny_expected = pd.DataFrame(\n",
    "    {\n",
    "        \"name\": [\"Hamilton\", \"Vettel\", \"Verstappen\", \"Bottas\", \"Perez\"],\n",
    "        \"wins\": [95, 53, 10, 9, 1],\n",
    "        \"championships\": [7, 4, 0, 0, 0],\n",
    "        \"class\": [\"best\", \"good\", \"good\", \"mediocre\", \"pay\"],\n",
    "    }\n",
    ")"
   ]
  },
  {
   "cell_type": "code",
   "execution_count": 6,
   "metadata": {
    "deletable": false,
    "nbgrader": {
     "cell_type": "code",
     "checksum": "3f828d6b62f329c003ce789d22247326",
     "grade": false,
     "grade_id": "cell-72e0fe3521551a3d",
     "locked": false,
     "schema_version": 3,
     "solution": true,
     "task": false
    }
   },
   "outputs": [],
   "source": [
    "@max_allowed_loops(0)\n",
    "def load_csv(filename: str, headers: Sequence[str]) -> pd.DataFrame:\n",
    "    # YOUR CODE HERE\n",
    "    df = pd.read_csv(filename, names = headers)\n",
    "    \n",
    "    return df\n",
    "    # YOUR CODE HERE\n",
    "    "
   ]
  },
  {
   "cell_type": "code",
   "execution_count": 7,
   "metadata": {
    "deletable": false,
    "editable": false,
    "nbgrader": {
     "cell_type": "code",
     "checksum": "07354476502d60ec3e335259f3593be0",
     "grade": true,
     "grade_id": "cell-738c7cd8c9b53593",
     "locked": true,
     "points": 5,
     "schema_version": 3,
     "solution": false,
     "task": false
    }
   },
   "outputs": [],
   "source": [
    "load_csv.assert_not_too_many_loops()\n",
    "tiny_result = load_csv(\"tiny.csv\", tiny_headers)\n",
    "\n",
    "t.assertIsInstance(tiny_result, pd.DataFrame)\n",
    "t.assertEqual(list(tiny_result.columns.values), tiny_headers)\n",
    "np.testing.assert_array_equal(tiny_result.shape, (5, 4))\n",
    "pd.testing.assert_frame_equal(tiny_result, tiny_expected)\n",
    "\n",
    "iris = load_csv(\"iris.csv\", headers)\n",
    "t.assertIsInstance(iris, pd.DataFrame)\n",
    "t.assertEqual(list(iris.columns.values), headers)\n",
    "np.testing.assert_array_equal(iris.shape, (150, 5))\n"
   ]
  },
  {
   "cell_type": "code",
   "execution_count": 8,
   "metadata": {},
   "outputs": [
    {
     "data": {
      "text/html": [
       "<div>\n",
       "<style scoped>\n",
       "    .dataframe tbody tr th:only-of-type {\n",
       "        vertical-align: middle;\n",
       "    }\n",
       "\n",
       "    .dataframe tbody tr th {\n",
       "        vertical-align: top;\n",
       "    }\n",
       "\n",
       "    .dataframe thead th {\n",
       "        text-align: right;\n",
       "    }\n",
       "</style>\n",
       "<table border=\"1\" class=\"dataframe\">\n",
       "  <thead>\n",
       "    <tr style=\"text-align: right;\">\n",
       "      <th></th>\n",
       "      <th>sepal length</th>\n",
       "      <th>sepal width</th>\n",
       "      <th>petal length</th>\n",
       "      <th>petal width</th>\n",
       "      <th>class</th>\n",
       "    </tr>\n",
       "  </thead>\n",
       "  <tbody>\n",
       "    <tr>\n",
       "      <th>0</th>\n",
       "      <td>5.1</td>\n",
       "      <td>3.5</td>\n",
       "      <td>1.4</td>\n",
       "      <td>0.2</td>\n",
       "      <td>Iris-setosa</td>\n",
       "    </tr>\n",
       "    <tr>\n",
       "      <th>1</th>\n",
       "      <td>4.9</td>\n",
       "      <td>3.0</td>\n",
       "      <td>1.4</td>\n",
       "      <td>0.2</td>\n",
       "      <td>Iris-setosa</td>\n",
       "    </tr>\n",
       "    <tr>\n",
       "      <th>2</th>\n",
       "      <td>4.7</td>\n",
       "      <td>3.2</td>\n",
       "      <td>1.3</td>\n",
       "      <td>0.2</td>\n",
       "      <td>Iris-setosa</td>\n",
       "    </tr>\n",
       "    <tr>\n",
       "      <th>3</th>\n",
       "      <td>4.6</td>\n",
       "      <td>3.1</td>\n",
       "      <td>1.5</td>\n",
       "      <td>0.2</td>\n",
       "      <td>Iris-setosa</td>\n",
       "    </tr>\n",
       "    <tr>\n",
       "      <th>4</th>\n",
       "      <td>5.0</td>\n",
       "      <td>3.6</td>\n",
       "      <td>1.4</td>\n",
       "      <td>0.2</td>\n",
       "      <td>Iris-setosa</td>\n",
       "    </tr>\n",
       "    <tr>\n",
       "      <th>...</th>\n",
       "      <td>...</td>\n",
       "      <td>...</td>\n",
       "      <td>...</td>\n",
       "      <td>...</td>\n",
       "      <td>...</td>\n",
       "    </tr>\n",
       "    <tr>\n",
       "      <th>145</th>\n",
       "      <td>6.7</td>\n",
       "      <td>3.0</td>\n",
       "      <td>5.2</td>\n",
       "      <td>2.3</td>\n",
       "      <td>Iris-virginica</td>\n",
       "    </tr>\n",
       "    <tr>\n",
       "      <th>146</th>\n",
       "      <td>6.3</td>\n",
       "      <td>2.5</td>\n",
       "      <td>5.0</td>\n",
       "      <td>1.9</td>\n",
       "      <td>Iris-virginica</td>\n",
       "    </tr>\n",
       "    <tr>\n",
       "      <th>147</th>\n",
       "      <td>6.5</td>\n",
       "      <td>3.0</td>\n",
       "      <td>5.2</td>\n",
       "      <td>2.0</td>\n",
       "      <td>Iris-virginica</td>\n",
       "    </tr>\n",
       "    <tr>\n",
       "      <th>148</th>\n",
       "      <td>6.2</td>\n",
       "      <td>3.4</td>\n",
       "      <td>5.4</td>\n",
       "      <td>2.3</td>\n",
       "      <td>Iris-virginica</td>\n",
       "    </tr>\n",
       "    <tr>\n",
       "      <th>149</th>\n",
       "      <td>5.9</td>\n",
       "      <td>3.0</td>\n",
       "      <td>5.1</td>\n",
       "      <td>1.8</td>\n",
       "      <td>Iris-virginica</td>\n",
       "    </tr>\n",
       "  </tbody>\n",
       "</table>\n",
       "<p>150 rows × 5 columns</p>\n",
       "</div>"
      ],
      "text/plain": [
       "     sepal length  sepal width  petal length  petal width           class\n",
       "0             5.1          3.5           1.4          0.2     Iris-setosa\n",
       "1             4.9          3.0           1.4          0.2     Iris-setosa\n",
       "2             4.7          3.2           1.3          0.2     Iris-setosa\n",
       "3             4.6          3.1           1.5          0.2     Iris-setosa\n",
       "4             5.0          3.6           1.4          0.2     Iris-setosa\n",
       "..            ...          ...           ...          ...             ...\n",
       "145           6.7          3.0           5.2          2.3  Iris-virginica\n",
       "146           6.3          2.5           5.0          1.9  Iris-virginica\n",
       "147           6.5          3.0           5.2          2.0  Iris-virginica\n",
       "148           6.2          3.4           5.4          2.3  Iris-virginica\n",
       "149           5.9          3.0           5.1          1.8  Iris-virginica\n",
       "\n",
       "[150 rows x 5 columns]"
      ]
     },
     "execution_count": 8,
     "metadata": {},
     "output_type": "execute_result"
    }
   ],
   "source": [
    "iris = overwrite.ex1()\n",
    "\n",
    "iris"
   ]
  },
  {
   "cell_type": "markdown",
   "metadata": {
    "deletable": false,
    "editable": false,
    "nbgrader": {
     "cell_type": "markdown",
     "checksum": "ff72e351952939ae7a76f2de2843aef9",
     "grade": false,
     "grade_id": "cell-cebfd6caf33a9e75",
     "locked": true,
     "schema_version": 3,
     "solution": false,
     "task": false
    }
   },
   "source": [
    "### Exercise 1.2: Random Entries ( 5 points ) \n",
    "\n",
    "Depict 7 random entries from `iris`.\n",
    "* There is a pandas function you can use that display random subset in a DataFrame.\n",
    "* Try to understand the nature of the data you are given.\n",
    "\n",
    "\n",
    "* Number of loops allowed in this exercise: 0\n",
    "\n",
    "<br>"
   ]
  },
  {
   "cell_type": "code",
   "execution_count": 9,
   "metadata": {
    "deletable": false,
    "nbgrader": {
     "cell_type": "code",
     "checksum": "9310caa28b195195404ad0e2ffa605f0",
     "grade": false,
     "grade_id": "cell-3e2fca04befd50c5",
     "locked": false,
     "schema_version": 3,
     "solution": true,
     "task": false
    }
   },
   "outputs": [],
   "source": [
    "@max_allowed_loops(0)\n",
    "def get_random_subset(dataframe: pd.DataFrame, size: int) -> pd.DataFrame:\n",
    "    \"\"\"\n",
    "    Get a random subset of the provided dataframe\n",
    "\n",
    "    Args:\n",
    "        dataframe (pd.DataFrame): The source dataframe\n",
    "        size (int): The number of elements the subset should contain\n",
    "    \"\"\"\n",
    "    # YOUR CODE HERE\n",
    "    return dataframe.sample(size)\n",
    "    # YOUR CODE HERE\n",
    "    "
   ]
  },
  {
   "cell_type": "code",
   "execution_count": 10,
   "metadata": {
    "deletable": false,
    "editable": false,
    "nbgrader": {
     "cell_type": "code",
     "checksum": "d2f5ac305725096ed3d0b7eeb195f3b4",
     "grade": true,
     "grade_id": "cell-b0f0091c8b39ca1d",
     "locked": true,
     "points": 5,
     "schema_version": 3,
     "solution": false,
     "task": false
    }
   },
   "outputs": [
    {
     "name": "stdout",
     "output_type": "stream",
     "text": [
      "         name  wins  championships     class\n",
      "2  Verstappen    10              0      good\n",
      "3      Bottas     9              0  mediocre\n"
     ]
    },
    {
     "data": {
      "text/html": [
       "<div>\n",
       "<style scoped>\n",
       "    .dataframe tbody tr th:only-of-type {\n",
       "        vertical-align: middle;\n",
       "    }\n",
       "\n",
       "    .dataframe tbody tr th {\n",
       "        vertical-align: top;\n",
       "    }\n",
       "\n",
       "    .dataframe thead th {\n",
       "        text-align: right;\n",
       "    }\n",
       "</style>\n",
       "<table border=\"1\" class=\"dataframe\">\n",
       "  <thead>\n",
       "    <tr style=\"text-align: right;\">\n",
       "      <th></th>\n",
       "      <th>sepal length</th>\n",
       "      <th>sepal width</th>\n",
       "      <th>petal length</th>\n",
       "      <th>petal width</th>\n",
       "      <th>class</th>\n",
       "    </tr>\n",
       "  </thead>\n",
       "  <tbody>\n",
       "    <tr>\n",
       "      <th>61</th>\n",
       "      <td>5.9</td>\n",
       "      <td>3.0</td>\n",
       "      <td>4.2</td>\n",
       "      <td>1.5</td>\n",
       "      <td>Iris-versicolor</td>\n",
       "    </tr>\n",
       "    <tr>\n",
       "      <th>72</th>\n",
       "      <td>6.3</td>\n",
       "      <td>2.5</td>\n",
       "      <td>4.9</td>\n",
       "      <td>1.5</td>\n",
       "      <td>Iris-versicolor</td>\n",
       "    </tr>\n",
       "    <tr>\n",
       "      <th>35</th>\n",
       "      <td>5.0</td>\n",
       "      <td>3.2</td>\n",
       "      <td>1.2</td>\n",
       "      <td>0.2</td>\n",
       "      <td>Iris-setosa</td>\n",
       "    </tr>\n",
       "    <tr>\n",
       "      <th>127</th>\n",
       "      <td>6.1</td>\n",
       "      <td>3.0</td>\n",
       "      <td>4.9</td>\n",
       "      <td>1.8</td>\n",
       "      <td>Iris-virginica</td>\n",
       "    </tr>\n",
       "    <tr>\n",
       "      <th>122</th>\n",
       "      <td>7.7</td>\n",
       "      <td>2.8</td>\n",
       "      <td>6.7</td>\n",
       "      <td>2.0</td>\n",
       "      <td>Iris-virginica</td>\n",
       "    </tr>\n",
       "    <tr>\n",
       "      <th>50</th>\n",
       "      <td>7.0</td>\n",
       "      <td>3.2</td>\n",
       "      <td>4.7</td>\n",
       "      <td>1.4</td>\n",
       "      <td>Iris-versicolor</td>\n",
       "    </tr>\n",
       "    <tr>\n",
       "      <th>149</th>\n",
       "      <td>5.9</td>\n",
       "      <td>3.0</td>\n",
       "      <td>5.1</td>\n",
       "      <td>1.8</td>\n",
       "      <td>Iris-virginica</td>\n",
       "    </tr>\n",
       "  </tbody>\n",
       "</table>\n",
       "</div>"
      ],
      "text/plain": [
       "     sepal length  sepal width  petal length  petal width            class\n",
       "61            5.9          3.0           4.2          1.5  Iris-versicolor\n",
       "72            6.3          2.5           4.9          1.5  Iris-versicolor\n",
       "35            5.0          3.2           1.2          0.2      Iris-setosa\n",
       "127           6.1          3.0           4.9          1.8   Iris-virginica\n",
       "122           7.7          2.8           6.7          2.0   Iris-virginica\n",
       "50            7.0          3.2           4.7          1.4  Iris-versicolor\n",
       "149           5.9          3.0           5.1          1.8   Iris-virginica"
      ]
     },
     "execution_count": 10,
     "metadata": {},
     "output_type": "execute_result"
    }
   ],
   "source": [
    "get_random_subset.assert_not_too_many_loops()\n",
    "tiny_size = 2\n",
    "tiny_subset = get_random_subset(tiny_expected, tiny_size)\n",
    "print(tiny_subset)\n",
    "np.testing.assert_array_equal(tiny_subset.shape, (tiny_size, 4))\n",
    "\n",
    "# call function 10 times, it should return different result each time\n",
    "random_samples = [get_random_subset(iris, 10) for _ in range(10)]\n",
    "for df_prev, df_next in zip(random_samples[:-1], random_samples[1:]):\n",
    "    # the samples should be different\n",
    "    with t.assertRaises(AssertionError):\n",
    "        pd.testing.assert_frame_equal(df_prev, df_next)\n",
    "\n",
    "iris_sample = get_random_subset(iris, 7)\n",
    "iris_sample"
   ]
  },
  {
   "cell_type": "markdown",
   "metadata": {
    "deletable": false,
    "editable": false,
    "nbgrader": {
     "cell_type": "markdown",
     "checksum": "10b723bb8110ab59a8a924a8dc1acc90",
     "grade": false,
     "grade_id": "cell-3ae29a5f0d915574",
     "locked": true,
     "schema_version": 3,
     "solution": false,
     "task": false
    }
   },
   "source": [
    "### Exercise 1.3: Mean and Standard Deviation ( 5 points ) \n",
    "\n",
    "\n",
    "The function `calc_mean_std()` computes the means and the standard deviation of the data.\n",
    "* Compute the average value (`mean`) of each column.\n",
    "* Compute the standard deviation (`std`) of each column.\n",
    "* Display both the mean and the standard deviation in a DataFrame.\n",
    "* There is a Pandas method you can use to calculate aggregates. This method keeps them in the pandas DataFrame.\n",
    "\n",
    "\n",
    "* Number of loops allowed in this exercise: 0\n"
   ]
  },
  {
   "cell_type": "code",
   "execution_count": 11,
   "metadata": {
    "deletable": false,
    "editable": false,
    "nbgrader": {
     "cell_type": "code",
     "checksum": "e8a449bbe22004877edd608780db7a0c",
     "grade": false,
     "grade_id": "cell-e997c0d77df72c47",
     "locked": true,
     "schema_version": 3,
     "solution": false,
     "task": false
    }
   },
   "outputs": [],
   "source": [
    "tiny_mean_std_expected = pd.DataFrame(\n",
    "    {\n",
    "        \"wins\": [33.6, 39.909898521544754],\n",
    "        \"championships\": [2.2, 3.1937438845342627],\n",
    "    },\n",
    "    index=[\"mean\", \"std\"],\n",
    ")"
   ]
  },
  {
   "cell_type": "code",
   "execution_count": 12,
   "metadata": {
    "deletable": false,
    "nbgrader": {
     "cell_type": "code",
     "checksum": "f73eec1ab1ff8821bddd62b28566fa55",
     "grade": false,
     "grade_id": "cell-a638d9eee77f2d20",
     "locked": false,
     "schema_version": 3,
     "solution": true,
     "task": false
    }
   },
   "outputs": [],
   "source": [
    "@max_allowed_loops(0)\n",
    "def calc_mean_std(dataframe: pd.DataFrame) -> pd.DataFrame:\n",
    "    \"\"\"\n",
    "    Calculate the mean and standard deviation of each numerical column\n",
    "\n",
    "    Args:\n",
    "        dataframe (pd.DataFrame): The dataframe for which we want to calculate the\n",
    "        aggregates\n",
    "\n",
    "    Returns:\n",
    "        pd.DataFrame: A dataframe that contains the mean and std\n",
    "    \"\"\"\n",
    "    # YOUR CODE HERE\n",
    "    means = dataframe.mean()\n",
    "    \n",
    "    std = dataframe.std()\n",
    "    \n",
    "    df = pd.concat([means, std], axis=1)\n",
    "    \n",
    "    #test3.columns = ['a','b']\n",
    "    \n",
    "    #df = pd.wide_to_long(df)\n",
    "    #index=[\"mean\", \"std\"]\n",
    "    \n",
    "    df_t = df.T\n",
    "    df_t.index = [\"mean\", \"std\"]\n",
    "    return df_t\n",
    "    # YOUR CODE HERE\n",
    "    \n"
   ]
  },
  {
   "cell_type": "code",
   "execution_count": 13,
   "metadata": {
    "deletable": false,
    "editable": false,
    "nbgrader": {
     "cell_type": "code",
     "checksum": "6046e8523f9fd4cbb45bb2f27e5a0a23",
     "grade": true,
     "grade_id": "cell-280a0b46c8301445",
     "locked": true,
     "points": 5,
     "schema_version": 3,
     "solution": false,
     "task": false
    }
   },
   "outputs": [
    {
     "name": "stdout",
     "output_type": "stream",
     "text": [
      "result:\n",
      "            wins  championships\n",
      "mean  33.600000       2.200000\n",
      "std   39.909899       3.193744\n",
      "\n",
      "expected:\n",
      "            wins  championships\n",
      "mean  33.600000       2.200000\n",
      "std   39.909899       3.193744\n"
     ]
    },
    {
     "name": "stderr",
     "output_type": "stream",
     "text": [
      "C:\\Users\\felix\\AppData\\Local\\Temp/ipykernel_32056/3047665929.py:14: FutureWarning: Dropping of nuisance columns in DataFrame reductions (with 'numeric_only=None') is deprecated; in a future version this will raise TypeError.  Select only valid columns before calling the reduction.\n",
      "  means = dataframe.mean()\n",
      "C:\\Users\\felix\\AppData\\Local\\Temp/ipykernel_32056/3047665929.py:16: FutureWarning: Dropping of nuisance columns in DataFrame reductions (with 'numeric_only=None') is deprecated; in a future version this will raise TypeError.  Select only valid columns before calling the reduction.\n",
      "  std = dataframe.std()\n",
      "C:\\Users\\felix\\AppData\\Local\\Temp/ipykernel_32056/3047665929.py:14: FutureWarning: Dropping of nuisance columns in DataFrame reductions (with 'numeric_only=None') is deprecated; in a future version this will raise TypeError.  Select only valid columns before calling the reduction.\n",
      "  means = dataframe.mean()\n",
      "C:\\Users\\felix\\AppData\\Local\\Temp/ipykernel_32056/3047665929.py:16: FutureWarning: Dropping of nuisance columns in DataFrame reductions (with 'numeric_only=None') is deprecated; in a future version this will raise TypeError.  Select only valid columns before calling the reduction.\n",
      "  std = dataframe.std()\n"
     ]
    },
    {
     "data": {
      "text/html": [
       "<div>\n",
       "<style scoped>\n",
       "    .dataframe tbody tr th:only-of-type {\n",
       "        vertical-align: middle;\n",
       "    }\n",
       "\n",
       "    .dataframe tbody tr th {\n",
       "        vertical-align: top;\n",
       "    }\n",
       "\n",
       "    .dataframe thead th {\n",
       "        text-align: right;\n",
       "    }\n",
       "</style>\n",
       "<table border=\"1\" class=\"dataframe\">\n",
       "  <thead>\n",
       "    <tr style=\"text-align: right;\">\n",
       "      <th></th>\n",
       "      <th>sepal length</th>\n",
       "      <th>sepal width</th>\n",
       "      <th>petal length</th>\n",
       "      <th>petal width</th>\n",
       "    </tr>\n",
       "  </thead>\n",
       "  <tbody>\n",
       "    <tr>\n",
       "      <th>mean</th>\n",
       "      <td>5.843333</td>\n",
       "      <td>3.054000</td>\n",
       "      <td>3.758667</td>\n",
       "      <td>1.198667</td>\n",
       "    </tr>\n",
       "    <tr>\n",
       "      <th>std</th>\n",
       "      <td>0.828066</td>\n",
       "      <td>0.433594</td>\n",
       "      <td>1.764420</td>\n",
       "      <td>0.763161</td>\n",
       "    </tr>\n",
       "  </tbody>\n",
       "</table>\n",
       "</div>"
      ],
      "text/plain": [
       "      sepal length  sepal width  petal length  petal width\n",
       "mean      5.843333     3.054000      3.758667     1.198667\n",
       "std       0.828066     0.433594      1.764420     0.763161"
      ]
     },
     "execution_count": 13,
     "metadata": {},
     "output_type": "execute_result"
    }
   ],
   "source": [
    "calc_mean_std.assert_not_too_many_loops()\n",
    "tiny_mean_std = calc_mean_std(tiny_expected)\n",
    "print('result:\\n', tiny_mean_std, end='\\n\\n')\n",
    "print('expected:\\n',tiny_mean_std_expected)\n",
    "\n",
    "t.assertIsInstance(tiny_mean_std, pd.DataFrame)\n",
    "t.assertEqual(set(tiny_mean_std.index), {'mean', 'std'})\n",
    "np.testing.assert_array_equal(tiny_mean_std.shape, (2,2))\n",
    "pd.testing.assert_frame_equal(tiny_mean_std, tiny_mean_std_expected)\n",
    "\n",
    "iris_mean_std = calc_mean_std(iris)\n",
    "np.testing.assert_array_equal(iris_mean_std.shape, (2,4))\n",
    "\n",
    "iris_mean_std"
   ]
  },
  {
   "cell_type": "markdown",
   "metadata": {
    "deletable": false,
    "editable": false,
    "nbgrader": {
     "cell_type": "markdown",
     "checksum": "262d947ffa17b34964b47b5a163a9722",
     "grade": false,
     "grade_id": "cell-64f5d2bb0826d322",
     "locked": true,
     "schema_version": 3,
     "solution": false,
     "task": false
    }
   },
   "source": [
    "### Exercise 1.4: Data and Targets ( 10 points ) \n",
    "\n",
    "\n",
    "The function `extract_data_and_targets()` should return the data `x` and their classes/targets.\n",
    "* The data features consist of the `'sepal length'` and `'petal width'` columns.\n",
    "* The targets are in the `'class'` column.\n",
    "\n",
    "\n",
    "* Number of loops allowed in this exercise: 0\n",
    "\n",
    "<br>"
   ]
  },
  {
   "cell_type": "code",
   "execution_count": 14,
   "metadata": {
    "deletable": false,
    "editable": false,
    "nbgrader": {
     "cell_type": "code",
     "checksum": "d1376c0a63950806fa0560ff5ce6e749",
     "grade": false,
     "grade_id": "cell-b799e492289a9e24",
     "locked": true,
     "schema_version": 3,
     "solution": false,
     "task": false
    }
   },
   "outputs": [
    {
     "name": "stdout",
     "output_type": "stream",
     "text": [
      "iris column names: sepal length | sepal width | petal length | petal width | class\n"
     ]
    }
   ],
   "source": [
    "print(\"iris column names:\", ' | '.join(iris.columns))\n",
    "\n",
    "tiny_expected_data, tiny_expected_classes = (\n",
    "    np.array(\n",
    "        [[95.0, 7.0], [53.0, 4.0], [10.0, 0.0], [9.0, 0.0], [1.0, 0.0]], dtype=np.float32\n",
    "    ),\n",
    "    np.array([\"best\", \"good\", \"good\", \"mediocre\", \"pay\"], dtype=object),\n",
    ")"
   ]
  },
  {
   "cell_type": "code",
   "execution_count": 15,
   "metadata": {
    "deletable": false,
    "nbgrader": {
     "cell_type": "code",
     "checksum": "b2201422fe32740a20ee0ed0755e1964",
     "grade": false,
     "grade_id": "cell-8f7985abf4a2a67d",
     "locked": false,
     "schema_version": 3,
     "solution": true,
     "task": false
    }
   },
   "outputs": [],
   "source": [
    "@max_allowed_loops(0)\n",
    "def extract_data_and_targets(\n",
    "    data: pd.DataFrame, column_idxs: List[int], class_idx: int\n",
    ") -> Tuple[np.ndarray, np.ndarray]:\n",
    "    \"\"\"\n",
    "    Extracts data and class from a single dataframe\n",
    "\n",
    "    Args:\n",
    "        data (pd.DataFrame): The dataframe with the data\n",
    "        column_idxs (List[int]): The list of the data column indices\n",
    "        class_idx (int): The index of the class index\n",
    "\n",
    "    Returns:\n",
    "        Tuple[np.ndarray, np.ndarray]: The data and class arrays\n",
    "    \"\"\"\n",
    "    # YOUR CODE HERE\n",
    "    \n",
    "    df = data.to_numpy()\n",
    "    \n",
    "    x = df[:, column_idxs].astype(np.float32)\n",
    "    \n",
    "    \n",
    "    \n",
    "    classes = df[:, class_idx]\n",
    "    \n",
    "    \n",
    "    # YOUR CODE HERE\n",
    "    \n",
    "    return x, classes"
   ]
  },
  {
   "cell_type": "code",
   "execution_count": 16,
   "metadata": {
    "deletable": false,
    "editable": false,
    "nbgrader": {
     "cell_type": "code",
     "checksum": "a38e671f313e0d1db78daa8e70f6cd97",
     "grade": true,
     "grade_id": "cell-f5655487459278fc",
     "locked": true,
     "points": 10,
     "schema_version": 3,
     "solution": false,
     "task": false
    }
   },
   "outputs": [],
   "source": [
    "extract_data_and_targets.assert_not_too_many_loops()\n",
    "\n",
    "tiny_data, tiny_classes = extract_data_and_targets(tiny_expected, [1, 2], -1)\n",
    "\n",
    "t.assertEqual(tiny_data.dtype, np.float32, \"data must be of float type\")\n",
    "t.assertEqual(tiny_classes.dtype, object, \"dtype of classes must be 'object'\")\n",
    "\n",
    "np.testing.assert_array_equal(tiny_data.shape, (5, 2))\n",
    "np.testing.assert_array_equal(tiny_classes.shape, (5,))\n",
    "\n",
    "np.testing.assert_allclose(tiny_data, tiny_expected_data)\n",
    "np.testing.assert_array_equal(tiny_classes, tiny_expected_classes)\n",
    "\n",
    "iris_data, iris_classes = extract_data_and_targets(\n",
    "    iris, column_idxs=[0, 3], class_idx=-1\n",
    ")\n",
    "np.testing.assert_array_equal(iris_data.shape, (150, 2))\n"
   ]
  },
  {
   "cell_type": "code",
   "execution_count": 17,
   "metadata": {},
   "outputs": [
    {
     "data": {
      "text/plain": [
       "(array(['Iris-setosa', 'Iris-setosa', 'Iris-setosa', 'Iris-setosa',\n",
       "        'Iris-setosa', 'Iris-setosa', 'Iris-setosa', 'Iris-setosa',\n",
       "        'Iris-setosa', 'Iris-setosa', 'Iris-setosa', 'Iris-setosa',\n",
       "        'Iris-setosa', 'Iris-setosa', 'Iris-setosa', 'Iris-setosa',\n",
       "        'Iris-setosa', 'Iris-setosa', 'Iris-setosa', 'Iris-setosa',\n",
       "        'Iris-setosa', 'Iris-setosa', 'Iris-setosa', 'Iris-setosa',\n",
       "        'Iris-setosa', 'Iris-setosa', 'Iris-setosa', 'Iris-setosa',\n",
       "        'Iris-setosa', 'Iris-setosa', 'Iris-setosa', 'Iris-setosa',\n",
       "        'Iris-setosa', 'Iris-setosa', 'Iris-setosa', 'Iris-setosa',\n",
       "        'Iris-setosa', 'Iris-setosa', 'Iris-setosa', 'Iris-setosa',\n",
       "        'Iris-setosa', 'Iris-setosa', 'Iris-setosa', 'Iris-setosa',\n",
       "        'Iris-setosa', 'Iris-setosa', 'Iris-setosa', 'Iris-setosa',\n",
       "        'Iris-setosa', 'Iris-setosa', 'Iris-versicolor', 'Iris-versicolor',\n",
       "        'Iris-versicolor', 'Iris-versicolor', 'Iris-versicolor',\n",
       "        'Iris-versicolor', 'Iris-versicolor', 'Iris-versicolor',\n",
       "        'Iris-versicolor', 'Iris-versicolor', 'Iris-versicolor',\n",
       "        'Iris-versicolor', 'Iris-versicolor', 'Iris-versicolor',\n",
       "        'Iris-versicolor', 'Iris-versicolor', 'Iris-versicolor',\n",
       "        'Iris-versicolor', 'Iris-versicolor', 'Iris-versicolor',\n",
       "        'Iris-versicolor', 'Iris-versicolor', 'Iris-versicolor',\n",
       "        'Iris-versicolor', 'Iris-versicolor', 'Iris-versicolor',\n",
       "        'Iris-versicolor', 'Iris-versicolor', 'Iris-versicolor',\n",
       "        'Iris-versicolor', 'Iris-versicolor', 'Iris-versicolor',\n",
       "        'Iris-versicolor', 'Iris-versicolor', 'Iris-versicolor',\n",
       "        'Iris-versicolor', 'Iris-versicolor', 'Iris-versicolor',\n",
       "        'Iris-versicolor', 'Iris-versicolor', 'Iris-versicolor',\n",
       "        'Iris-versicolor', 'Iris-versicolor', 'Iris-versicolor',\n",
       "        'Iris-versicolor', 'Iris-versicolor', 'Iris-versicolor',\n",
       "        'Iris-versicolor', 'Iris-versicolor', 'Iris-versicolor',\n",
       "        'Iris-virginica', 'Iris-virginica', 'Iris-virginica',\n",
       "        'Iris-virginica', 'Iris-virginica', 'Iris-virginica',\n",
       "        'Iris-virginica', 'Iris-virginica', 'Iris-virginica',\n",
       "        'Iris-virginica', 'Iris-virginica', 'Iris-virginica',\n",
       "        'Iris-virginica', 'Iris-virginica', 'Iris-virginica',\n",
       "        'Iris-virginica', 'Iris-virginica', 'Iris-virginica',\n",
       "        'Iris-virginica', 'Iris-virginica', 'Iris-virginica',\n",
       "        'Iris-virginica', 'Iris-virginica', 'Iris-virginica',\n",
       "        'Iris-virginica', 'Iris-virginica', 'Iris-virginica',\n",
       "        'Iris-virginica', 'Iris-virginica', 'Iris-virginica',\n",
       "        'Iris-virginica', 'Iris-virginica', 'Iris-virginica',\n",
       "        'Iris-virginica', 'Iris-virginica', 'Iris-virginica',\n",
       "        'Iris-virginica', 'Iris-virginica', 'Iris-virginica',\n",
       "        'Iris-virginica', 'Iris-virginica', 'Iris-virginica',\n",
       "        'Iris-virginica', 'Iris-virginica', 'Iris-virginica',\n",
       "        'Iris-virginica', 'Iris-virginica', 'Iris-virginica',\n",
       "        'Iris-virginica', 'Iris-virginica'], dtype=object),\n",
       " array([[5.1, 0.2],\n",
       "        [4.9, 0.2],\n",
       "        [4.7, 0.2],\n",
       "        [4.6, 0.2],\n",
       "        [5. , 0.2],\n",
       "        [5.4, 0.4],\n",
       "        [4.6, 0.3],\n",
       "        [5. , 0.2],\n",
       "        [4.4, 0.2],\n",
       "        [4.9, 0.1],\n",
       "        [5.4, 0.2],\n",
       "        [4.8, 0.2],\n",
       "        [4.8, 0.1],\n",
       "        [4.3, 0.1],\n",
       "        [5.8, 0.2],\n",
       "        [5.7, 0.4],\n",
       "        [5.4, 0.4],\n",
       "        [5.1, 0.3],\n",
       "        [5.7, 0.3],\n",
       "        [5.1, 0.3],\n",
       "        [5.4, 0.2],\n",
       "        [5.1, 0.4],\n",
       "        [4.6, 0.2],\n",
       "        [5.1, 0.5],\n",
       "        [4.8, 0.2],\n",
       "        [5. , 0.2],\n",
       "        [5. , 0.4],\n",
       "        [5.2, 0.2],\n",
       "        [5.2, 0.2],\n",
       "        [4.7, 0.2],\n",
       "        [4.8, 0.2],\n",
       "        [5.4, 0.4],\n",
       "        [5.2, 0.1],\n",
       "        [5.5, 0.2],\n",
       "        [4.9, 0.1],\n",
       "        [5. , 0.2],\n",
       "        [5.5, 0.2],\n",
       "        [4.9, 0.1],\n",
       "        [4.4, 0.2],\n",
       "        [5.1, 0.2],\n",
       "        [5. , 0.3],\n",
       "        [4.5, 0.3],\n",
       "        [4.4, 0.2],\n",
       "        [5. , 0.6],\n",
       "        [5.1, 0.4],\n",
       "        [4.8, 0.3],\n",
       "        [5.1, 0.2],\n",
       "        [4.6, 0.2],\n",
       "        [5.3, 0.2],\n",
       "        [5. , 0.2],\n",
       "        [7. , 1.4],\n",
       "        [6.4, 1.5],\n",
       "        [6.9, 1.5],\n",
       "        [5.5, 1.3],\n",
       "        [6.5, 1.5],\n",
       "        [5.7, 1.3],\n",
       "        [6.3, 1.6],\n",
       "        [4.9, 1. ],\n",
       "        [6.6, 1.3],\n",
       "        [5.2, 1.4],\n",
       "        [5. , 1. ],\n",
       "        [5.9, 1.5],\n",
       "        [6. , 1. ],\n",
       "        [6.1, 1.4],\n",
       "        [5.6, 1.3],\n",
       "        [6.7, 1.4],\n",
       "        [5.6, 1.5],\n",
       "        [5.8, 1. ],\n",
       "        [6.2, 1.5],\n",
       "        [5.6, 1.1],\n",
       "        [5.9, 1.8],\n",
       "        [6.1, 1.3],\n",
       "        [6.3, 1.5],\n",
       "        [6.1, 1.2],\n",
       "        [6.4, 1.3],\n",
       "        [6.6, 1.4],\n",
       "        [6.8, 1.4],\n",
       "        [6.7, 1.7],\n",
       "        [6. , 1.5],\n",
       "        [5.7, 1. ],\n",
       "        [5.5, 1.1],\n",
       "        [5.5, 1. ],\n",
       "        [5.8, 1.2],\n",
       "        [6. , 1.6],\n",
       "        [5.4, 1.5],\n",
       "        [6. , 1.6],\n",
       "        [6.7, 1.5],\n",
       "        [6.3, 1.3],\n",
       "        [5.6, 1.3],\n",
       "        [5.5, 1.3],\n",
       "        [5.5, 1.2],\n",
       "        [6.1, 1.4],\n",
       "        [5.8, 1.2],\n",
       "        [5. , 1. ],\n",
       "        [5.6, 1.3],\n",
       "        [5.7, 1.2],\n",
       "        [5.7, 1.3],\n",
       "        [6.2, 1.3],\n",
       "        [5.1, 1.1],\n",
       "        [5.7, 1.3],\n",
       "        [6.3, 2.5],\n",
       "        [5.8, 1.9],\n",
       "        [7.1, 2.1],\n",
       "        [6.3, 1.8],\n",
       "        [6.5, 2.2],\n",
       "        [7.6, 2.1],\n",
       "        [4.9, 1.7],\n",
       "        [7.3, 1.8],\n",
       "        [6.7, 1.8],\n",
       "        [7.2, 2.5],\n",
       "        [6.5, 2. ],\n",
       "        [6.4, 1.9],\n",
       "        [6.8, 2.1],\n",
       "        [5.7, 2. ],\n",
       "        [5.8, 2.4],\n",
       "        [6.4, 2.3],\n",
       "        [6.5, 1.8],\n",
       "        [7.7, 2.2],\n",
       "        [7.7, 2.3],\n",
       "        [6. , 1.5],\n",
       "        [6.9, 2.3],\n",
       "        [5.6, 2. ],\n",
       "        [7.7, 2. ],\n",
       "        [6.3, 1.8],\n",
       "        [6.7, 2.1],\n",
       "        [7.2, 1.8],\n",
       "        [6.2, 1.8],\n",
       "        [6.1, 1.8],\n",
       "        [6.4, 2.1],\n",
       "        [7.2, 1.6],\n",
       "        [7.4, 1.9],\n",
       "        [7.9, 2. ],\n",
       "        [6.4, 2.2],\n",
       "        [6.3, 1.5],\n",
       "        [6.1, 1.4],\n",
       "        [7.7, 2.3],\n",
       "        [6.3, 2.4],\n",
       "        [6.4, 1.8],\n",
       "        [6. , 1.8],\n",
       "        [6.9, 2.1],\n",
       "        [6.7, 2.4],\n",
       "        [6.9, 2.3],\n",
       "        [5.8, 1.9],\n",
       "        [6.8, 2.3],\n",
       "        [6.7, 2.5],\n",
       "        [6.7, 2.3],\n",
       "        [6.3, 1.9],\n",
       "        [6.5, 2. ],\n",
       "        [6.2, 2.3],\n",
       "        [5.9, 1.8]], dtype=float32))"
      ]
     },
     "execution_count": 17,
     "metadata": {},
     "output_type": "execute_result"
    }
   ],
   "source": [
    "iris_classes, iris_data = overwrite.ex4()\n",
    "\n",
    "iris_classes, iris_data"
   ]
  },
  {
   "cell_type": "markdown",
   "metadata": {
    "deletable": false,
    "editable": false,
    "nbgrader": {
     "cell_type": "markdown",
     "checksum": "605a25f3655d83a90459e0524acabf9e",
     "grade": false,
     "grade_id": "cell-be92eb2f03f3bb39",
     "locked": true,
     "schema_version": 3,
     "solution": false,
     "task": false
    }
   },
   "source": [
    "# Exercise 2: K-means clustering algorithm (45 Points)\n",
    "\n",
    "In this exercise you will implement the K-means clustering algorithm step by step.\n",
    "\n",
    "\n",
    "### Exercise 2.1: Normalize Features ( 5 points ) \n",
    "\n",
    "\n",
    "The function `normalize()` normalized the features.\n",
    "* The normalization is done by shifting and transforming the data to have a mean of 0 and a standard deviation of 1.\n",
    "\n",
    "\n",
    "* Number of loops allowed in this exercise: 0\n"
   ]
  },
  {
   "cell_type": "code",
   "execution_count": 18,
   "metadata": {
    "deletable": false,
    "editable": false,
    "nbgrader": {
     "cell_type": "code",
     "checksum": "54677bd16ab80a737fd56c4f70530792",
     "grade": false,
     "grade_id": "cell-ff6eb9d7f57ae47b",
     "locked": true,
     "schema_version": 3,
     "solution": false,
     "task": false
    }
   },
   "outputs": [],
   "source": [
    "tiny_norm_expected = np.array(\n",
    "    [\n",
    "        [1.7200567, 1.6803361],\n",
    "        [0.5434706, 0.630126],\n",
    "        [-0.6611293, -0.77015406],\n",
    "        [-0.68914324, -0.77015406],\n",
    "        [-0.91325486, -0.77015406],\n",
    "    ],\n",
    "    dtype=np.float32,\n",
    ")"
   ]
  },
  {
   "cell_type": "code",
   "execution_count": 19,
   "metadata": {
    "deletable": false,
    "nbgrader": {
     "cell_type": "code",
     "checksum": "a132df07792ef86fc2c1551a2c8399fb",
     "grade": false,
     "grade_id": "cell-87c8ff5dc0221c6a",
     "locked": false,
     "schema_version": 3,
     "solution": true,
     "task": false
    }
   },
   "outputs": [],
   "source": [
    "@max_allowed_loops(0)\n",
    "def normalize(data: np.ndarray) -> np.ndarray:\n",
    "    \"\"\"\n",
    "    Normalize the data such that each column has a mean of 0 and a variance of 1\n",
    "\n",
    "    Args:\n",
    "        data (np.ndarray): A 2d array\n",
    "\n",
    "    Returns:\n",
    "        np.ndarray: The normalized data\n",
    "    \"\"\"\n",
    "    # YOUR CODE HERE\n",
    "     \n",
    "    return (data - data.mean(axis = 0)) / data.std(axis = 0)\n",
    "    # YOUR CODE HERE\n",
    "    "
   ]
  },
  {
   "cell_type": "code",
   "execution_count": 20,
   "metadata": {
    "deletable": false,
    "editable": false,
    "nbgrader": {
     "cell_type": "code",
     "checksum": "201fd97931d7a087373ec2c7076a8192",
     "grade": true,
     "grade_id": "cell-c1304962e5b0313c",
     "locked": true,
     "points": 5,
     "schema_version": 3,
     "solution": false,
     "task": false
    }
   },
   "outputs": [
    {
     "name": "stdout",
     "output_type": "stream",
     "text": [
      "[ 0. -0.] [1. 1.]\n"
     ]
    }
   ],
   "source": [
    "normalize.assert_not_too_many_loops()\n",
    "tiny_norm = normalize(tiny_expected_data)\n",
    "print(tiny_norm.mean(0).round(3), tiny_norm.std(0))\n",
    "\n",
    "t.assertIsNot(tiny_norm, tiny_expected)\n",
    "np.testing.assert_array_equal(tiny_norm.shape, tiny_expected_data.shape)\n",
    "np.testing.assert_allclose(tiny_norm.mean(0), 0, atol=1e-5)\n",
    "np.testing.assert_allclose(tiny_norm.std(0), 1, atol=1e-5)\n",
    "np.testing.assert_allclose(tiny_norm, tiny_norm_expected, atol=1e-05)\n",
    "\n",
    "iris_norm = normalize(iris_data)\n",
    "np.testing.assert_allclose(iris_norm.mean(0), 0, atol=1e-5)\n",
    "np.testing.assert_allclose(iris_norm.std(0), 1, atol=1e-5)\n"
   ]
  },
  {
   "cell_type": "code",
   "execution_count": 21,
   "metadata": {
    "deletable": false,
    "editable": false,
    "nbgrader": {
     "cell_type": "code",
     "checksum": "dafde616a4943263f01f731dd72da843",
     "grade": false,
     "grade_id": "cell-b6dbccbc7ea1435b",
     "locked": true,
     "schema_version": 3,
     "solution": false,
     "task": false
    }
   },
   "outputs": [
    {
     "data": {
      "text/plain": [
       "array([[-9.0068316e-01, -1.3129770e+00],\n",
       "       [-1.1430187e+00, -1.3129770e+00],\n",
       "       [-1.3853549e+00, -1.3129770e+00],\n",
       "       [-1.5065227e+00, -1.3129770e+00],\n",
       "       [-1.0218509e+00, -1.3129770e+00],\n",
       "       [-5.3717923e-01, -1.0500311e+00],\n",
       "       [-1.5065227e+00, -1.1815039e+00],\n",
       "       [-1.0218509e+00, -1.3129770e+00],\n",
       "       [-1.7488583e+00, -1.3129770e+00],\n",
       "       [-1.1430187e+00, -1.4444498e+00],\n",
       "       [-5.3717923e-01, -1.3129770e+00],\n",
       "       [-1.2641865e+00, -1.3129770e+00],\n",
       "       [-1.2641865e+00, -1.4444498e+00],\n",
       "       [-1.8700261e+00, -1.4444498e+00],\n",
       "       [-5.2507486e-02, -1.3129770e+00],\n",
       "       [-1.7367585e-01, -1.0500311e+00],\n",
       "       [-5.3717923e-01, -1.0500311e+00],\n",
       "       [-9.0068316e-01, -1.1815039e+00],\n",
       "       [-1.7367585e-01, -1.1815039e+00],\n",
       "       [-9.0068316e-01, -1.1815039e+00],\n",
       "       [-5.3717923e-01, -1.3129770e+00],\n",
       "       [-9.0068316e-01, -1.0500311e+00],\n",
       "       [-1.5065227e+00, -1.3129770e+00],\n",
       "       [-9.0068316e-01, -9.1855806e-01],\n",
       "       [-1.2641865e+00, -1.3129770e+00],\n",
       "       [-1.0218509e+00, -1.3129770e+00],\n",
       "       [-1.0218509e+00, -1.0500311e+00],\n",
       "       [-7.7951539e-01, -1.3129770e+00],\n",
       "       [-7.7951539e-01, -1.3129770e+00],\n",
       "       [-1.3853549e+00, -1.3129770e+00],\n",
       "       [-1.2641865e+00, -1.3129770e+00],\n",
       "       [-5.3717923e-01, -1.0500311e+00],\n",
       "       [-7.7951539e-01, -1.4444498e+00],\n",
       "       [-4.1601142e-01, -1.3129770e+00],\n",
       "       [-1.1430187e+00, -1.4444498e+00],\n",
       "       [-1.0218509e+00, -1.3129770e+00],\n",
       "       [-4.1601142e-01, -1.3129770e+00],\n",
       "       [-1.1430187e+00, -1.4444498e+00],\n",
       "       [-1.7488583e+00, -1.3129770e+00],\n",
       "       [-9.0068316e-01, -1.3129770e+00],\n",
       "       [-1.0218509e+00, -1.1815039e+00],\n",
       "       [-1.6276904e+00, -1.1815039e+00],\n",
       "       [-1.7488583e+00, -1.3129770e+00],\n",
       "       [-1.0218509e+00, -7.8708506e-01],\n",
       "       [-9.0068316e-01, -1.0500311e+00],\n",
       "       [-1.2641865e+00, -1.1815039e+00],\n",
       "       [-9.0068316e-01, -1.3129770e+00],\n",
       "       [-1.5065227e+00, -1.3129770e+00],\n",
       "       [-6.5834701e-01, -1.3129770e+00],\n",
       "       [-1.0218509e+00, -1.3129770e+00],\n",
       "       [ 1.4015071e+00,  2.6469851e-01],\n",
       "       [ 6.7449981e-01,  3.9617148e-01],\n",
       "       [ 1.2803394e+00,  3.9617148e-01],\n",
       "       [-4.1601142e-01,  1.3322552e-01],\n",
       "       [ 7.9566765e-01,  3.9617148e-01],\n",
       "       [-1.7367585e-01,  1.3322552e-01],\n",
       "       [ 5.5333203e-01,  5.2764446e-01],\n",
       "       [-1.1430187e+00, -2.6119328e-01],\n",
       "       [ 9.1683543e-01,  1.3322552e-01],\n",
       "       [-7.7951539e-01,  2.6469851e-01],\n",
       "       [-1.0218509e+00, -2.6119328e-01],\n",
       "       [ 6.8660304e-02,  3.9617148e-01],\n",
       "       [ 1.8982810e-01, -2.6119328e-01],\n",
       "       [ 3.1099588e-01,  2.6469851e-01],\n",
       "       [-2.9484364e-01,  1.3322552e-01],\n",
       "       [ 1.0380032e+00,  2.6469851e-01],\n",
       "       [-2.9484364e-01,  3.9617148e-01],\n",
       "       [-5.2507486e-02, -2.6119328e-01],\n",
       "       [ 4.3216369e-01,  3.9617148e-01],\n",
       "       [-2.9484364e-01, -1.2972030e-01],\n",
       "       [ 6.8660304e-02,  7.9059029e-01],\n",
       "       [ 3.1099588e-01,  1.3322552e-01],\n",
       "       [ 5.5333203e-01,  3.9617148e-01],\n",
       "       [ 3.1099588e-01,  1.7526889e-03],\n",
       "       [ 6.7449981e-01,  1.3322552e-01],\n",
       "       [ 9.1683543e-01,  2.6469851e-01],\n",
       "       [ 1.1591716e+00,  2.6469851e-01],\n",
       "       [ 1.0380032e+00,  6.5911746e-01],\n",
       "       [ 1.8982810e-01,  3.9617148e-01],\n",
       "       [-1.7367585e-01, -2.6119328e-01],\n",
       "       [-4.1601142e-01, -1.2972030e-01],\n",
       "       [-4.1601142e-01, -2.6119328e-01],\n",
       "       [-5.2507486e-02,  1.7526889e-03],\n",
       "       [ 1.8982810e-01,  5.2764446e-01],\n",
       "       [-5.3717923e-01,  3.9617148e-01],\n",
       "       [ 1.8982810e-01,  5.2764446e-01],\n",
       "       [ 1.0380032e+00,  3.9617148e-01],\n",
       "       [ 5.5333203e-01,  1.3322552e-01],\n",
       "       [-2.9484364e-01,  1.3322552e-01],\n",
       "       [-4.1601142e-01,  1.3322552e-01],\n",
       "       [-4.1601142e-01,  1.7526889e-03],\n",
       "       [ 3.1099588e-01,  2.6469851e-01],\n",
       "       [-5.2507486e-02,  1.7526889e-03],\n",
       "       [-1.0218509e+00, -2.6119328e-01],\n",
       "       [-2.9484364e-01,  1.3322552e-01],\n",
       "       [-1.7367585e-01,  1.7526889e-03],\n",
       "       [-1.7367585e-01,  1.3322552e-01],\n",
       "       [ 4.3216369e-01,  1.3322552e-01],\n",
       "       [-9.0068316e-01, -1.2972030e-01],\n",
       "       [-1.7367585e-01,  1.3322552e-01],\n",
       "       [ 5.5333203e-01,  1.7109010e+00],\n",
       "       [-5.2507486e-02,  9.2206323e-01],\n",
       "       [ 1.5226749e+00,  1.1850091e+00],\n",
       "       [ 5.5333203e-01,  7.9059029e-01],\n",
       "       [ 7.9566765e-01,  1.3164822e+00],\n",
       "       [ 2.1285145e+00,  1.1850091e+00],\n",
       "       [-1.1430187e+00,  6.5911746e-01],\n",
       "       [ 1.7650111e+00,  7.9059029e-01],\n",
       "       [ 1.0380032e+00,  7.9059029e-01],\n",
       "       [ 1.6438427e+00,  1.7109010e+00],\n",
       "       [ 7.9566765e-01,  1.0535363e+00],\n",
       "       [ 6.7449981e-01,  9.2206323e-01],\n",
       "       [ 1.1591716e+00,  1.1850091e+00],\n",
       "       [-1.7367585e-01,  1.0535363e+00],\n",
       "       [-5.2507486e-02,  1.5794282e+00],\n",
       "       [ 6.7449981e-01,  1.4479550e+00],\n",
       "       [ 7.9566765e-01,  7.9059029e-01],\n",
       "       [ 2.2496822e+00,  1.3164822e+00],\n",
       "       [ 2.2496822e+00,  1.4479550e+00],\n",
       "       [ 1.8982810e-01,  3.9617148e-01],\n",
       "       [ 1.2803394e+00,  1.4479550e+00],\n",
       "       [-2.9484364e-01,  1.0535363e+00],\n",
       "       [ 2.2496822e+00,  1.0535363e+00],\n",
       "       [ 5.5333203e-01,  7.9059029e-01],\n",
       "       [ 1.0380032e+00,  1.1850091e+00],\n",
       "       [ 1.6438427e+00,  7.9059029e-01],\n",
       "       [ 4.3216369e-01,  7.9059029e-01],\n",
       "       [ 3.1099588e-01,  7.9059029e-01],\n",
       "       [ 6.7449981e-01,  1.1850091e+00],\n",
       "       [ 1.6438427e+00,  5.2764446e-01],\n",
       "       [ 1.8861789e+00,  9.2206323e-01],\n",
       "       [ 2.4920185e+00,  1.0535363e+00],\n",
       "       [ 6.7449981e-01,  1.3164822e+00],\n",
       "       [ 5.5333203e-01,  3.9617148e-01],\n",
       "       [ 3.1099588e-01,  2.6469851e-01],\n",
       "       [ 2.2496822e+00,  1.4479550e+00],\n",
       "       [ 5.5333203e-01,  1.5794282e+00],\n",
       "       [ 6.7449981e-01,  7.9059029e-01],\n",
       "       [ 1.8982810e-01,  7.9059029e-01],\n",
       "       [ 1.2803394e+00,  1.1850091e+00],\n",
       "       [ 1.0380032e+00,  1.5794282e+00],\n",
       "       [ 1.2803394e+00,  1.4479550e+00],\n",
       "       [-5.2507486e-02,  9.2206323e-01],\n",
       "       [ 1.1591716e+00,  1.4479550e+00],\n",
       "       [ 1.0380032e+00,  1.7109010e+00],\n",
       "       [ 1.0380032e+00,  1.4479550e+00],\n",
       "       [ 5.5333203e-01,  9.2206323e-01],\n",
       "       [ 7.9566765e-01,  1.0535363e+00],\n",
       "       [ 4.3216369e-01,  1.4479550e+00],\n",
       "       [ 6.8660304e-02,  7.9059029e-01]], dtype=float32)"
      ]
     },
     "execution_count": 21,
     "metadata": {},
     "output_type": "execute_result"
    }
   ],
   "source": [
    "iris_norm = overwrite.ex5()\n",
    "iris_norm"
   ]
  },
  {
   "cell_type": "markdown",
   "metadata": {
    "deletable": false,
    "editable": false,
    "nbgrader": {
     "cell_type": "markdown",
     "checksum": "a8b4014740026195c5735fc3fb7b0f46",
     "grade": false,
     "grade_id": "cell-aa2906eb8417124b",
     "locked": true,
     "schema_version": 3,
     "solution": false,
     "task": false
    }
   },
   "source": [
    "### Exercise 2.2: Convert classes to numeric ( 10 points ) \n",
    "\n",
    "The function `classes_to_numeric()` converts text classes to numerical\n",
    "* The order of the labels needs to stay the same\n",
    "* The labels are converted from the class-string to a unique int, \n",
    "starting with 0 and increasing by 1. \n",
    "* The mapping happens alphabetically. \n",
    "* Example: For classes `M,V`  `['V', 'M', 'V]'` -> `1, 0, 1`\n",
    "* Loops allowed in this exercise: 1"
   ]
  },
  {
   "cell_type": "code",
   "execution_count": 22,
   "metadata": {
    "deletable": false,
    "editable": false,
    "nbgrader": {
     "cell_type": "code",
     "checksum": "ce2124c9b043793caf4cf0d8231da748",
     "grade": false,
     "grade_id": "cell-ce0081ae7fbe47bc",
     "locked": true,
     "schema_version": 3,
     "solution": false,
     "task": false
    }
   },
   "outputs": [],
   "source": [
    "tiny_classes_num_expected = np.array([0, 1, 1, 2, 3], dtype=np.int32)"
   ]
  },
  {
   "cell_type": "code",
   "execution_count": 23,
   "metadata": {
    "deletable": false,
    "nbgrader": {
     "cell_type": "code",
     "checksum": "fe3aaf39a7da4b8addba03839304edf9",
     "grade": false,
     "grade_id": "cell-14b7050bf940d8c8",
     "locked": false,
     "schema_version": 3,
     "solution": true,
     "task": false
    }
   },
   "outputs": [],
   "source": [
    "@max_allowed_loops(1)\n",
    "def classes_to_numeric(classes: np.ndarray) -> np.ndarray:\n",
    "    \"\"\"\n",
    "    Maps the text classes to integers. The mapping happens \n",
    "    alphabetically and works even when the classes are not sorted\n",
    "\n",
    "    Args:\n",
    "        classes (np.ndarray): The str classes to convet to integers\n",
    "        \n",
    "    Returns:\n",
    "        np.ndarray: The integer class labels\n",
    "    \"\"\" \n",
    "    # YOUR CODE HERE\n",
    "    uniq = np.unique(classes)\n",
    "    \n",
    "    uniq_s = np.sort(uniq)\n",
    "    \n",
    "    num = np.zeros(len(classes))\n",
    "    \n",
    "    for n, i in enumerate(uniq_s):\n",
    "        num[classes == i] += n\n",
    "    \n",
    "    return num.astype(np.int32)\n",
    "    \n",
    "    # YOUR CODE HERE\n",
    "    "
   ]
  },
  {
   "cell_type": "code",
   "execution_count": 24,
   "metadata": {
    "deletable": false,
    "editable": false,
    "nbgrader": {
     "cell_type": "code",
     "checksum": "258b22da58ab86671e8ae760fa00b2f6",
     "grade": true,
     "grade_id": "cell-907f3720c5809db4",
     "locked": true,
     "points": 10,
     "schema_version": 3,
     "solution": false,
     "task": false
    }
   },
   "outputs": [
    {
     "name": "stdout",
     "output_type": "stream",
     "text": [
      "best -> 0\n",
      "good -> 1\n",
      "good -> 1\n",
      "mediocre -> 2\n",
      "pay -> 3\n",
      "\n",
      "pay -> 3\n",
      "good -> 1\n",
      "best -> 0\n",
      "good -> 1\n",
      "mediocre -> 2\n",
      "\n",
      "iris_classes_num:\n",
      "[0 0 0 0 0 0 0 0 0 0 0 0 0 0 0 0 0 0 0 0 0 0 0 0 0 0 0 0 0 0 0 0 0 0 0 0 0\n",
      " 0 0 0 0 0 0 0 0 0 0 0 0 0 1 1 1 1 1 1 1 1 1 1 1 1 1 1 1 1 1 1 1 1 1 1 1 1\n",
      " 1 1 1 1 1 1 1 1 1 1 1 1 1 1 1 1 1 1 1 1 1 1 1 1 1 1 2 2 2 2 2 2 2 2 2 2 2\n",
      " 2 2 2 2 2 2 2 2 2 2 2 2 2 2 2 2 2 2 2 2 2 2 2 2 2 2 2 2 2 2 2 2 2 2 2 2 2\n",
      " 2 2]\n"
     ]
    }
   ],
   "source": [
    "classes_to_numeric.assert_not_too_many_loops()\n",
    "\n",
    "tiny_classes_num = classes_to_numeric(tiny_expected_classes)\n",
    "for num, txt in zip(tiny_classes_num, tiny_expected_classes):\n",
    "    print(f\"{txt} -> {num}\")\n",
    "\n",
    "t.assertIsInstance(tiny_classes_num, np.ndarray)\n",
    "np.testing.assert_array_equal(tiny_classes_num.shape, tiny_expected_classes.shape)\n",
    "np.testing.assert_array_equal(tiny_classes_num, tiny_classes_num_expected)\n",
    "t.assertEqual(tiny_classes_num.dtype, np.int32)\n",
    "\n",
    "# shuffle classes array\n",
    "tiny_classes_shuffled = tiny_expected_classes[\n",
    "    np.random.rand(len(tiny_classes_num_expected)).argsort()\n",
    "]\n",
    "tiny_claas_num_shuffled = classes_to_numeric(tiny_classes_shuffled)\n",
    "print()\n",
    "for num, txt in zip(tiny_claas_num_shuffled, tiny_classes_shuffled):\n",
    "    print(f\"{txt} -> {num}\")\n",
    "\n",
    "iris_classes_num = classes_to_numeric(iris_classes)\n",
    "print()\n",
    "print(f\"iris_classes_num:\\n{iris_classes_num}\")\n",
    "np.testing.assert_array_almost_equal(iris_classes_num.shape, iris_classes.shape)\n",
    "t.assertEqual(iris_classes_num.dtype, np.int32)"
   ]
  },
  {
   "cell_type": "code",
   "execution_count": 25,
   "metadata": {
    "deletable": false,
    "editable": false,
    "nbgrader": {
     "cell_type": "code",
     "checksum": "a4843066e68e916059a4fa654f6f0408",
     "grade": false,
     "grade_id": "cell-d4375898c072daa9",
     "locked": true,
     "schema_version": 3,
     "solution": false,
     "task": false
    }
   },
   "outputs": [
    {
     "data": {
      "text/plain": [
       "array([0, 0, 0, 0, 0, 0, 0, 0, 0, 0, 0, 0, 0, 0, 0, 0, 0, 0, 0, 0, 0, 0,\n",
       "       0, 0, 0, 0, 0, 0, 0, 0, 0, 0, 0, 0, 0, 0, 0, 0, 0, 0, 0, 0, 0, 0,\n",
       "       0, 0, 0, 0, 0, 0, 1, 1, 1, 1, 1, 1, 1, 1, 1, 1, 1, 1, 1, 1, 1, 1,\n",
       "       1, 1, 1, 1, 1, 1, 1, 1, 1, 1, 1, 1, 1, 1, 1, 1, 1, 1, 1, 1, 1, 1,\n",
       "       1, 1, 1, 1, 1, 1, 1, 1, 1, 1, 1, 1, 2, 2, 2, 2, 2, 2, 2, 2, 2, 2,\n",
       "       2, 2, 2, 2, 2, 2, 2, 2, 2, 2, 2, 2, 2, 2, 2, 2, 2, 2, 2, 2, 2, 2,\n",
       "       2, 2, 2, 2, 2, 2, 2, 2, 2, 2, 2, 2, 2, 2, 2, 2, 2, 2])"
      ]
     },
     "execution_count": 25,
     "metadata": {},
     "output_type": "execute_result"
    }
   ],
   "source": [
    "iris_classes_num = overwrite.ex6()\n",
    "iris_classes_num"
   ]
  },
  {
   "cell_type": "markdown",
   "metadata": {
    "deletable": false,
    "editable": false,
    "nbgrader": {
     "cell_type": "markdown",
     "checksum": "57a54cff2b5e77537e2909be06aa1dc2",
     "grade": false,
     "grade_id": "cell-e27b79ec011a841c",
     "locked": true,
     "schema_version": 3,
     "solution": false,
     "task": false
    }
   },
   "source": [
    "### K-means Clustering Algorithm:\n",
    "\n",
    "The K-means clustering algorithm separates given datapoints into k-clusters. It tries to find the best way of separating the clusters by minimizing the distance each datapoint has to the cluster mean. The algorithm is done iteratively and either stops after a chosen number of time steps or when a stopping criterium is reached. (An hwple for a stopping criterium would be that no datapoint was assigned to new cluster in that time step.)\n",
    "\n",
    "The algorithms works as follows:\n",
    "\n",
    "\n",
    "\n",
    "* First it starts by selecting random cluster means: $\\mathbf m_1^{(1)}, \\ldots, \\mathbf m_k^{(1)}$\n",
    "\n",
    "\n",
    "* Then each datapoint is assigned to its closest mean: $C_j^{(t)} = \\left\\{ \\mathbf x_i : \\big\\| \\mathbf x_i - \\mathbf m^{(t)}_j \\big\\|^2 \\leq \\big\\| \\mathbf x_i - \\mathbf m^{(t)}_{j^*} \\big\\|^2 \\text{ for each }j^*=1,\\ldots,k \\right\\}$\n",
    "\n",
    "\n",
    "* Finally, the new cluster means are calculated: $\\mathbf m_j^{(t+1)} = \\frac{1}{|C_j^{(t)}|} \\sum_{\\mathbf x_i \\in C_{j}^{(t)}} \\mathbf x_i$\n",
    "\n",
    "* The assignment of the datapoints to the closest mean and the calculation of the new means is repeated n times or until a stopping criterion is met.\n",
    "\n",
    "\n",
    "\n",
    "### Exercise 2.3: Cluster Means Initialization ( 4 points ) \n",
    "\n",
    "The function `init_means()` returns the initial cluster means. \n",
    "* Select the means randomly from a normal (Gaussian) distribution.\n",
    "* Select as many means as there are unique labels.\n",
    "* The means need to have the same shape as the datapoints.\n",
    "* Don't forget to set the seed.\n",
    "\n",
    "\n",
    "* Number of loops allowed in this exercise: 0\n"
   ]
  },
  {
   "cell_type": "code",
   "execution_count": 26,
   "metadata": {
    "deletable": false,
    "nbgrader": {
     "cell_type": "code",
     "checksum": "29c6f52406d7a9b0a0f2d5b82fe9a689",
     "grade": true,
     "grade_id": "cell-505a61e421b47eb4",
     "locked": false,
     "points": 4,
     "schema_version": 3,
     "solution": true,
     "task": false
    }
   },
   "outputs": [],
   "source": [
    "@max_allowed_loops(0)\n",
    "def init_means(data: np.ndarray, classes, seed: int = 42) -> np.ndarray:\n",
    "    \"\"\"\n",
    "    Creates a random 2d array representing a random mean for each class. For \n",
    "    reproducibility the function always sets the rng seed\n",
    "\n",
    "    Args:\n",
    "        data (np.ndarray): The data that will be clustered. Used to extract the number\n",
    "        of dimensions of each mean vector\n",
    "        classes ([type]): The true cluster labels. Used for calculating the number of\n",
    "        clusters to initialize\n",
    "        seed (int, optional): The random number generator seed. Defaults to 42.\n",
    "\n",
    "    Returns:\n",
    "        np.ndarray: The random means for each cluster\n",
    "    \"\"\"    \n",
    "    # YOUR CODE HERE\n",
    "    #print(data.shape)\n",
    "    #print(classes.shape)\n",
    "    d = data.shape[1]\n",
    "    k = len(np.unique(classes))\n",
    "    np.random.seed(seed)\n",
    "    \n",
    "    return np.random.multivariate_normal(np.zeros(d), np.eye(d), k)\n",
    "    \n",
    "    # YOUR CODE HERE\n",
    "    "
   ]
  },
  {
   "cell_type": "code",
   "execution_count": 27,
   "metadata": {
    "deletable": false,
    "editable": false,
    "nbgrader": {
     "cell_type": "code",
     "checksum": "ca196e5b255f5e414cce77292eee2b02",
     "grade": true,
     "grade_id": "cell-ea016b6ce78013de",
     "locked": true,
     "points": 0,
     "schema_version": 3,
     "solution": false,
     "task": false
    }
   },
   "outputs": [
    {
     "name": "stdout",
     "output_type": "stream",
     "text": [
      "[[ 0.49671415 -0.1382643 ]\n",
      " [ 0.64768854  1.52302986]\n",
      " [-0.23415337 -0.23413696]]\n"
     ]
    }
   ],
   "source": [
    "tiny_init_means_1 = init_means(tiny_norm_expected, tiny_classes_num)\n",
    "tiny_init_mean_2 = init_means(tiny_norm_expected, tiny_classes_num)\n",
    "tiny_init_mean_3 = init_means(tiny_norm_expected, tiny_classes_num, seed=0)\n",
    "\n",
    "np.testing.assert_array_equal(tiny_init_means_1.shape, (4, 2))\n",
    "\n",
    "np.testing.assert_array_equal(\n",
    "    tiny_init_means_1, tiny_init_mean_2, \"Same seed shoud return the same means\"\n",
    ")\n",
    "with t.assertRaises(AssertionError):\n",
    "    # Running with differnt seed should return different result\n",
    "    np.testing.assert_array_equal(\n",
    "        tiny_init_means_1, tiny_init_mean_3\n",
    "    )\n",
    "\n",
    "\n",
    "iris_init_means = init_means(iris_norm, iris_classes_num)\n",
    "print(iris_init_means)\n",
    "np.testing.assert_array_equal(iris_init_means.shape, (3, 2))\n"
   ]
  },
  {
   "cell_type": "code",
   "execution_count": 28,
   "metadata": {
    "deletable": false,
    "editable": false,
    "nbgrader": {
     "cell_type": "code",
     "checksum": "bbbb8b8bd93d01e04f70f578aff2eb96",
     "grade": true,
     "grade_id": "cell-fb672ba4cff934c5",
     "locked": true,
     "points": 0,
     "schema_version": 3,
     "solution": false,
     "task": false
    }
   },
   "outputs": [],
   "source": [
    "iris_init_means = overwrite.ex7()\n"
   ]
  },
  {
   "cell_type": "markdown",
   "metadata": {
    "deletable": false,
    "editable": false,
    "nbgrader": {
     "cell_type": "markdown",
     "checksum": "7bd053bf21cecd9dc60da0e34099e94c",
     "grade": false,
     "grade_id": "cell-01e6ce194ee00cde",
     "locked": true,
     "schema_version": 3,
     "solution": false,
     "task": false
    }
   },
   "source": [
    "### Exercise 2.4: Euclidean Distance ( 7 points ) \n",
    "\n",
    "\n",
    "\n",
    "The function `distance()` returns the euclidean distance from each datapoint in `X` to each mean in `means`.\n",
    "* Use broadcasting to compute the means as you are not allowed to use loops.\n",
    "* The euclidean distance between each datapoint $x_i$ and each mean $m_k$ is defined as: $d(x_i,m_k) = \\|m_k-x_i\\|_2 =\n",
    "\\sqrt{(m_k[0] - x_i[0])^2 + \\cdots + (m_k[n] - x_i[n])^2} = \\sqrt{\\sum_{j=1}^n (m_k[j] - x_i[j])^2}$\n",
    "\n",
    "\n",
    "* Number of loops allowed in this exercise: 0"
   ]
  },
  {
   "cell_type": "code",
   "execution_count": 29,
   "metadata": {
    "deletable": false,
    "editable": false,
    "nbgrader": {
     "cell_type": "code",
     "checksum": "f4888b9caf40f599b89a91a02450149c",
     "grade": false,
     "grade_id": "cell-a4aaf7bcb74a9d1a",
     "locked": true,
     "schema_version": 3,
     "solution": false,
     "task": false
    }
   },
   "outputs": [],
   "source": [
    "tiny_distance_expected = np.array(\n",
    "    [\n",
    "        [2.19177425, 1.08384438, 2.73571636, 0.9237023],\n",
    "        [0.76981155, 0.89896533, 1.16260463, 1.04480409],\n",
    "        [1.31904743, 2.64039705, 0.68529028, 2.71722507],\n",
    "        [1.34370474, 2.65439478, 0.70308613, 2.74036831],\n",
    "        [1.54508811, 2.77402897, 0.86515499, 2.9285789],\n",
    "    ]\n",
    ")"
   ]
  },
  {
   "cell_type": "code",
   "execution_count": 30,
   "metadata": {
    "deletable": false,
    "nbgrader": {
     "cell_type": "code",
     "checksum": "558edf38f7ccb5261286b4bc8ab5b2e0",
     "grade": false,
     "grade_id": "cell-122f23c17b016617",
     "locked": false,
     "schema_version": 3,
     "solution": true,
     "task": false
    }
   },
   "outputs": [],
   "source": [
    "@max_allowed_loops(0)\n",
    "def distance(data: np.ndarray, means: np.ndarray) -> np.ndarray:\n",
    "    \"\"\"\n",
    "    Calculates the distance between the datapoints and the cluster means. Creates \n",
    "    a 2d array where position i,j corresponds to the euclidean distance between data[i]\n",
    "    and means[j]\n",
    "\n",
    "    Args:\n",
    "        data (np.ndarray): The datapoints that are being cluster\n",
    "        means (np.ndarray): The current means\n",
    "\n",
    "    Returns:\n",
    "        np.ndarray: The distance matrix between all data, means pairs\n",
    "    \"\"\"\n",
    "    # YOUR CODE HERE\n",
    "    #print(data.shape)\n",
    "    #print(means.shape)\n",
    "    \n",
    "    return np.sum((means[None] - data[:, None])**2, axis = 2)**0.5\n",
    "    # YOUR CODE HERE\n",
    "    "
   ]
  },
  {
   "cell_type": "code",
   "execution_count": 31,
   "metadata": {
    "deletable": false,
    "editable": false,
    "nbgrader": {
     "cell_type": "code",
     "checksum": "da31be08ac8e774d2d6e0727f5a492b1",
     "grade": true,
     "grade_id": "cell-8ca6e80211620372",
     "locked": true,
     "points": 7,
     "schema_version": 3,
     "solution": false,
     "task": false
    }
   },
   "outputs": [],
   "source": [
    "distance.assert_not_too_many_loops()\n",
    "iris_distance = distance(iris_norm, iris_init_means)\n",
    "np.testing.assert_array_equal(iris_distance.shape, (150,3))\n"
   ]
  },
  {
   "cell_type": "code",
   "execution_count": 32,
   "metadata": {
    "deletable": false,
    "editable": false,
    "nbgrader": {
     "cell_type": "code",
     "checksum": "7fd3047a782a052c1cea2caddf6c77a2",
     "grade": true,
     "grade_id": "cell-58411c66e2e55138",
     "locked": true,
     "points": 0,
     "schema_version": 3,
     "solution": false,
     "task": false
    }
   },
   "outputs": [
    {
     "data": {
      "text/plain": [
       "((150, 3),\n",
       " array([[1.82555994, 3.23115917, 1.26813158],\n",
       "        [2.01709537, 3.35403744, 1.41064948],\n",
       "        [2.21858821, 3.48944124, 1.5777074 ],\n",
       "        [2.32226345, 3.56139868, 1.66817845],\n",
       "        [1.91989317, 3.29094162, 1.33580059],\n",
       "        [1.37849707, 2.8327644 , 0.87034928],\n",
       "        [2.25860721, 3.45761893, 1.58632522],\n",
       "        [1.91989317, 3.29094162, 1.33580059],\n",
       "        [2.53427418, 3.71300035, 1.85963084],\n",
       "        [2.09638842, 3.46591516, 1.51356974],\n",
       "        [1.56489148, 3.07357224, 1.12058931],\n",
       "        [2.11677135, 3.42026327, 1.4915978 ],\n",
       "        [2.19246246, 3.53004272, 1.58928455],\n",
       "        [2.70325359, 3.89163494, 2.03492918],\n",
       "        [1.29676298, 2.92116572, 1.09402512],\n",
       "        [1.13169845, 2.70097797, 0.81813246],\n",
       "        [1.37849707, 2.8327644 , 0.87034928],\n",
       "        [1.74386585, 3.11640141, 1.15834627],\n",
       "        [1.24006919, 2.82650708, 0.94929534],\n",
       "        [1.74386585, 3.11640141, 1.15834627],\n",
       "        [1.56489148, 3.07357224, 1.12058931],\n",
       "        [1.66854364, 3.00301473, 1.05353935],\n",
       "        [2.32226345, 3.56139868, 1.66817845],\n",
       "        [1.60049293, 2.89116006, 0.95535031],\n",
       "        [2.11677135, 3.42026327, 1.4915978 ],\n",
       "        [1.91989317, 3.29094162, 1.33580059],\n",
       "        [1.77125904, 3.06724707, 1.13408583],\n",
       "        [1.73456382, 3.17487727, 1.20884882],\n",
       "        [1.73456382, 3.17487727, 1.20884882],\n",
       "        [2.21858821, 3.48944124, 1.5777074 ],\n",
       "        [2.11677135, 3.42026327, 1.4915978 ],\n",
       "        [1.37849707, 2.8327644 , 0.87034928],\n",
       "        [1.82616602, 3.29284778, 1.32750776],\n",
       "        [1.48762152, 3.02892593, 1.09406037],\n",
       "        [2.09638842, 3.46591516, 1.51356974],\n",
       "        [1.91989317, 3.29094162, 1.33580059],\n",
       "        [1.48762152, 3.02892593, 1.09406037],\n",
       "        [2.09638842, 3.46591516, 1.51356974],\n",
       "        [2.53427418, 3.71300035, 1.85963084],\n",
       "        [1.82555994, 3.23115917, 1.26813158],\n",
       "        [1.84238671, 3.17834311, 1.23205989],\n",
       "        [2.36673693, 3.53438146, 1.68506666],\n",
       "        [2.53427418, 3.71300035, 1.85963084],\n",
       "        [1.65136559, 2.85026192, 0.96240276],\n",
       "        [1.66854364, 3.00301473, 1.05353935],\n",
       "        [2.04673397, 3.31206416, 1.39945431],\n",
       "        [1.82555994, 3.23115917, 1.26813158],\n",
       "        [2.32226345, 3.56139868, 1.66817845],\n",
       "        [1.64745747, 3.12228498, 1.1592394 ],\n",
       "        [1.91989317, 3.29094162, 1.33580059],\n",
       "        [0.99046927, 1.46684705, 1.71003571],\n",
       "        [0.56323116, 1.12717729, 1.10586587],\n",
       "        [0.94851994, 1.2923068 , 1.64041975],\n",
       "        [0.95224718, 1.75014677, 0.40991162],\n",
       "        [0.61236819, 1.13653316, 1.20740219],\n",
       "        [0.7232769 , 1.61437157, 0.37230729],\n",
       "        [0.66831135, 0.99984762, 1.09564784],\n",
       "        [1.64433434, 2.52786168, 0.90926799],\n",
       "        [0.50020856, 1.41562571, 1.20819303],\n",
       "        [1.3383351 , 1.90271092, 0.73909171],\n",
       "        [1.52353256, 2.44352497, 0.78816211],\n",
       "        [0.68472746, 1.2669189 , 0.69927452],\n",
       "        [0.33059126, 1.84203376, 0.42484389],\n",
       "        [0.44370069, 1.30259731, 0.73893472],\n",
       "        [0.83682164, 1.67926265, 0.37234191],\n",
       "        [0.67481321, 1.31747612, 1.36646228],\n",
       "        [0.95508395, 1.46907342, 0.63322353],\n",
       "        [0.56281075, 1.91669681, 0.18364986],\n",
       "        [0.53831995, 1.14728408, 0.91720616],\n",
       "        [0.7916039 , 1.90261662, 0.12077313],\n",
       "        [1.02274187, 0.93367094, 1.06853266],\n",
       "        [0.32893464, 1.43000632, 0.65737576],\n",
       "        [0.53742645, 1.13080191, 1.00867338],\n",
       "        [0.23258554, 1.55809056, 0.59399632],\n",
       "        [0.3245219 , 1.39006293, 0.98010499],\n",
       "        [0.58213479, 1.28679363, 1.25443694],\n",
       "        [0.7753895 , 1.35831245, 1.47992947],\n",
       "        [0.96374868, 0.94799271, 1.55444068],\n",
       "        [0.61627969, 1.21632479, 0.75963742],\n",
       "        [0.68156752, 1.96420255, 0.06625386],\n",
       "        [0.91276556, 1.96546196, 0.20970262],\n",
       "        [0.92096661, 2.0772361 , 0.18385972],\n",
       "        [0.56678846, 1.67468167, 0.29772328],\n",
       "        [0.73322133, 1.09564058, 0.87182063],\n",
       "        [1.16385443, 1.63515181, 0.69936643],\n",
       "        [0.73322133, 1.09564058, 0.87182063],\n",
       "        [0.76066776, 1.19254155, 1.41974332],\n",
       "        [0.27733068, 1.39300369, 0.86895825],\n",
       "        [0.83682164, 1.67926265, 0.37234191],\n",
       "        [0.95224718, 1.75014677, 0.40991162],\n",
       "        [0.9234028 , 1.85627095, 0.29785278],\n",
       "        [0.44370069, 1.30259731, 0.73893472],\n",
       "        [0.56678846, 1.67468167, 0.29772328],\n",
       "        [1.52353256, 2.44352497, 0.78816211],\n",
       "        [0.83682164, 1.67926265, 0.37234191],\n",
       "        [0.68485583, 1.7288504 , 0.2435189 ],\n",
       "        [0.7232769 , 1.61437157, 0.37230729],\n",
       "        [0.27905821, 1.4064164 , 0.76087687],\n",
       "        [1.39742343, 2.26473796, 0.67465903],\n",
       "        [0.7232769 , 1.61437157, 0.37230729],\n",
       "        [1.85003188, 0.21023493, 2.09840559],\n",
       "        [1.19412683, 0.92273255, 1.17038204],\n",
       "        [1.67440976, 0.93800809, 2.25841122],\n",
       "        [0.93057854, 0.7384923 , 1.29236186],\n",
       "        [1.48514664, 0.25408612, 1.8614379 ],\n",
       "        [2.10091052, 1.51891528, 2.75611596],\n",
       "        [1.82333254, 1.98820953, 1.27433892],\n",
       "        [1.57205214, 1.33599303, 2.24649157],\n",
       "        [1.07506497, 0.82994775, 1.63353858],\n",
       "        [2.17607819, 1.01371528, 2.70370893],\n",
       "        [1.22872367, 0.49226215, 1.64882799],\n",
       "        [1.07512893, 0.6015644 , 1.47052694],\n",
       "        [1.47983188, 0.61308476, 1.98880115],\n",
       "        [1.36741048, 0.94607805, 1.28909268],\n",
       "        [1.80336128, 0.7024637 , 1.82263924],\n",
       "        [1.59615145, 0.07971874, 1.9118274 ],\n",
       "        [0.97577868, 0.74723861, 1.45278948],\n",
       "        [2.27797811, 1.61525403, 2.92811523],\n",
       "        [2.3641042 , 1.60375181, 2.99981207],\n",
       "        [0.61627969, 1.21632479, 0.75963742],\n",
       "        [1.76922587, 0.63708971, 2.26343138],\n",
       "        [1.43071744, 1.05299151, 1.28910268],\n",
       "        [2.11973715, 1.66937349, 2.79777438],\n",
       "        [0.93057854, 0.7384923 , 1.29236186],\n",
       "        [1.4297015 , 0.51633667, 1.90587459],\n",
       "        [1.47603345, 1.23644281, 2.13937728],\n",
       "        [0.93109484, 0.76349112, 1.22231107],\n",
       "        [0.94723921, 0.80612014, 1.16071255],\n",
       "        [1.33516302, 0.33908238, 1.68511905],\n",
       "        [1.32640053, 1.40823123, 2.02661791],\n",
       "        [1.74782912, 1.37659694, 2.41507921],\n",
       "        [2.32414026, 1.90314925, 3.0149818 ],\n",
       "        [1.46556988, 0.20828055, 1.79723964],\n",
       "        [0.53742645, 1.13080191, 1.00867338],\n",
       "        [0.44370069, 1.30259731, 0.73893472],\n",
       "        [2.3641042 , 1.60375181, 2.99981207],\n",
       "        [1.71862535, 0.1099269 , 1.97715751],\n",
       "        [0.94571591, 0.73293013, 1.36956801],\n",
       "        [0.97823816, 0.86377307, 1.1089753 ],\n",
       "        [1.537895  , 0.71729009, 2.07549123],\n",
       "        [1.80096123, 0.39436824, 2.21526543],\n",
       "        [1.76922587, 0.63708971, 2.26343138],\n",
       "        [1.19412683, 0.92273255, 1.17038204],\n",
       "        [1.71899434, 0.51696338, 2.18421332],\n",
       "        [1.92676055, 0.43317561, 2.32412459],\n",
       "        [1.67603268, 0.39746921, 2.10898453],\n",
       "        [1.06183806, 0.60832889, 1.39890391],\n",
       "        [1.22872367, 0.49226215, 1.64882799],\n",
       "        [1.58753219, 0.22822619, 1.80925726],\n",
       "        [1.02274187, 0.93367094, 1.06853266]]))"
      ]
     },
     "execution_count": 32,
     "metadata": {},
     "output_type": "execute_result"
    }
   ],
   "source": [
    "iris_distance = overwrite.ex8()\n",
    "\n",
    "iris_distance.shape, iris_distance"
   ]
  },
  {
   "cell_type": "markdown",
   "metadata": {
    "deletable": false,
    "editable": false,
    "nbgrader": {
     "cell_type": "markdown",
     "checksum": "dd70f9ff341b3ec2de9f9b985bfaa945",
     "grade": false,
     "grade_id": "cell-a63237e63dc1a7fb",
     "locked": true,
     "schema_version": 3,
     "solution": false,
     "task": false
    }
   },
   "source": [
    "### Exercise 2.5: Label Assignment ( 4 points ) \n",
    "\n",
    "The function `assign_labels()` return the labels for each data point according to the shortest distance.\n",
    "* The function gets passed the numpy array `dist` containing the distance for each datapoint to each mean.\n",
    "* The function returns a numpy vector containing the labels of the clostest mean for each datapoint.\n",
    "\n",
    "\n",
    "* Number of loops allowed in this exercise: 0"
   ]
  },
  {
   "cell_type": "code",
   "execution_count": 33,
   "metadata": {
    "deletable": false,
    "nbgrader": {
     "cell_type": "code",
     "checksum": "29ba19c871d9393edc9735a03e9823f4",
     "grade": false,
     "grade_id": "cell-470d64bf4ee5a779",
     "locked": false,
     "schema_version": 3,
     "solution": true,
     "task": false
    }
   },
   "outputs": [],
   "source": [
    "@max_allowed_loops(0)\n",
    "def assign_labels(dist: np.ndarray) -> np.ndarray:\n",
    "    \"\"\"\n",
    "    From the calculated distance matrix find the cluster mean that is closest to each\n",
    "    datapoint (keep in mind the index of the mean corresponds to its label)\n",
    "\n",
    "    Args:\n",
    "        dist (np.ndarray): The distance matrix between the datapoints and the clusters\n",
    "\n",
    "    Returns:\n",
    "        np.ndarray: The label of the closest mean to each datapoint\n",
    "    \"\"\"    \n",
    "    # YOUR CODE HERE\n",
    "    #print(dist.shape)\n",
    "    #print(dist)\n",
    "    \n",
    "    return np.argmin(dist, axis = 1)\n",
    "    # YOUR CODE HERE\n",
    "    "
   ]
  },
  {
   "cell_type": "code",
   "execution_count": 34,
   "metadata": {
    "deletable": false,
    "editable": false,
    "nbgrader": {
     "cell_type": "code",
     "checksum": "8437fb03b09435bc6b14c6907b197102",
     "grade": true,
     "grade_id": "cell-e3e031189414ad68",
     "locked": true,
     "points": 4,
     "schema_version": 3,
     "solution": false,
     "task": false
    }
   },
   "outputs": [
    {
     "name": "stdout",
     "output_type": "stream",
     "text": [
      "[2 2 2 2 2 2 2 2 2 2 2 2 2 2 2 2 2 2 2 2 2 2 2 2 2 2 2 2 2 2 2 2 2 2 2 2 2\n",
      " 2 2 2 2 2 2 2 2 2 2 2 2 2 0 0 0 2 0 2 0 2 0 2 2 0 0 0 2 0 2 2 0 2 1 0 0 0\n",
      " 0 0 0 1 0 2 2 2 2 0 2 0 0 0 2 2 2 0 2 2 2 2 2 0 2 2 1 1 1 1 1 1 2 1 1 1 1\n",
      " 1 1 1 1 1 1 1 1 0 1 1 1 1 1 1 1 1 1 0 1 1 1 0 0 1 1 1 1 1 1 1 1 1 1 1 1 1\n",
      " 1 1]\n"
     ]
    }
   ],
   "source": [
    "assign_labels.assert_not_too_many_loops()\n",
    "iris_k_means_labels = assign_labels(iris_distance)\n",
    "print(iris_k_means_labels)\n",
    "np.testing.assert_array_equal(iris_k_means_labels.shape, iris_distance.shape[0])\n"
   ]
  },
  {
   "cell_type": "code",
   "execution_count": 35,
   "metadata": {
    "deletable": false,
    "editable": false,
    "nbgrader": {
     "cell_type": "code",
     "checksum": "d354fc42f7bcf36849aeb1dbcc8ef4aa",
     "grade": true,
     "grade_id": "cell-ba68820e67968d08",
     "locked": true,
     "points": 0,
     "schema_version": 3,
     "solution": false,
     "task": false
    }
   },
   "outputs": [
    {
     "data": {
      "text/plain": [
       "array([2, 2, 2, 2, 2, 2, 2, 2, 2, 2, 2, 2, 2, 2, 2, 2, 2, 2, 2, 2, 2, 2,\n",
       "       2, 2, 2, 2, 2, 2, 2, 2, 2, 2, 2, 2, 2, 2, 2, 2, 2, 2, 2, 2, 2, 2,\n",
       "       2, 2, 2, 2, 2, 2, 0, 0, 0, 2, 0, 2, 0, 2, 0, 2, 2, 0, 0, 0, 2, 0,\n",
       "       2, 2, 0, 2, 1, 0, 0, 0, 0, 0, 0, 1, 0, 2, 2, 2, 2, 0, 2, 0, 0, 0,\n",
       "       2, 2, 2, 0, 2, 2, 2, 2, 2, 0, 2, 2, 1, 1, 1, 1, 1, 1, 2, 1, 1, 1,\n",
       "       1, 1, 1, 1, 1, 1, 1, 1, 1, 0, 1, 1, 1, 1, 1, 1, 1, 1, 1, 0, 1, 1,\n",
       "       1, 0, 0, 1, 1, 1, 1, 1, 1, 1, 1, 1, 1, 1, 1, 1, 1, 1])"
      ]
     },
     "execution_count": 35,
     "metadata": {},
     "output_type": "execute_result"
    }
   ],
   "source": [
    "iris_k_means_labels = overwrite.ex9()\n",
    "iris_k_means_labels.shape\n",
    "\n",
    "iris_k_means_labels"
   ]
  },
  {
   "cell_type": "markdown",
   "metadata": {
    "deletable": false,
    "editable": false,
    "nbgrader": {
     "cell_type": "markdown",
     "checksum": "cff881721d5c43d93521372b071d2e65",
     "grade": false,
     "grade_id": "cell-61d85eb08b630b92",
     "locked": true,
     "schema_version": 3,
     "solution": false,
     "task": false
    }
   },
   "source": [
    "### Exercise 2.6: Recompute Means ( 10 points ) \n",
    "\n",
    "\n",
    "\n",
    "The function `recompute_means()` computes the new cluster means.\n",
    "* Calculate the updated means of the clusters, using the data points newly assigned to them.\n",
    "* The function returns a 2d numpy array that is holding the new means.\n",
    "* Number of loops allowed in this exercise: 1"
   ]
  },
  {
   "cell_type": "code",
   "execution_count": 36,
   "metadata": {
    "deletable": false,
    "nbgrader": {
     "cell_type": "code",
     "checksum": "892684ae42056ec2b047397d29f1b278",
     "grade": false,
     "grade_id": "cell-11e5491b8c4a6a03",
     "locked": false,
     "schema_version": 3,
     "solution": true,
     "task": false
    }
   },
   "outputs": [],
   "source": [
    "@max_allowed_loops(1)\n",
    "def recompute_means(data: np.ndarray, labels: np.ndarray) -> np.ndarray:\n",
    "    \"\"\"\n",
    "    Compute the updated means out of the new labels\n",
    "\n",
    "    Args:\n",
    "        data (np.ndarray): The datapoints that are being clustered\n",
    "        labels (np.ndarray): The cluster to which each datapoint belongs to\n",
    "        \n",
    "    Returns: \n",
    "        np.ndarray: The updated cluster means\n",
    "    \"\"\"    \n",
    "    # YOUR CODE HERE\n",
    "    #print(labels)\n",
    "    \n",
    "    uniq = np.unique(labels)\n",
    "    \n",
    "    means = []\n",
    "    \n",
    "    for k, i in enumerate(uniq):\n",
    "        \n",
    "        sel_k = data[labels == i]\n",
    "        \n",
    "        means.append(sel_k.mean(axis = 0))\n",
    "    \n",
    "    return np.array(means)\n",
    "        \n",
    "    # YOUR CODE HERE\n",
    "    "
   ]
  },
  {
   "cell_type": "code",
   "execution_count": 37,
   "metadata": {
    "deletable": false,
    "editable": false,
    "nbgrader": {
     "cell_type": "code",
     "checksum": "e510ee62f2e5e2dc91e92d79943ddbb0",
     "grade": true,
     "grade_id": "cell-d8e497236ef98d49",
     "locked": true,
     "points": 10,
     "schema_version": 3,
     "solution": false,
     "task": false
    }
   },
   "outputs": [
    {
     "name": "stdout",
     "output_type": "stream",
     "text": [
      "[[ 0.61391574  0.29756674]\n",
      " [ 0.95034987  1.1402524 ]\n",
      " [-0.8247512  -0.8256505 ]]\n"
     ]
    }
   ],
   "source": [
    "recompute_means.assert_not_too_many_loops()\n",
    "new_means = recompute_means(iris_norm, iris_k_means_labels)\n",
    "print(new_means)\n",
    "np.testing.assert_array_equal(new_means.shape, (3, 2))\n"
   ]
  },
  {
   "cell_type": "markdown",
   "metadata": {
    "deletable": false,
    "editable": false,
    "nbgrader": {
     "cell_type": "markdown",
     "checksum": "b9ffda31f392d90cd6c6f0be20b2a1fe",
     "grade": false,
     "grade_id": "cell-bf44a00997b3e7ee",
     "locked": true,
     "schema_version": 3,
     "solution": false,
     "task": false
    }
   },
   "source": [
    "### Exercise 2.7: Complete the K-means Clustering Algorithm ( 5 points ) \n",
    "\n",
    "\n",
    "`k_means_clustering()` applies the K-Means clustering algorithm on a given dataset and plots every step.\n",
    "* For each step (for a total of `n_steps`) the function computes the distance to the current means, assigns each datapoint a new label and recomputes the new means. * Use the functions `distance()`, `assign_labels()` and `recompute_means()`. Even if you do not have correct implementations of these functions, you can assume that when we will test your code, a correct implementation will be used\n",
    "* For this exercise you will receive a skeleton of the function to which \n",
    "you only need to add to.\n",
    "\n",
    "* Number of loops allowed in this exercise: 1 (already in skeleton)\n",
    "\n",
    "Note: In the final part we will implement a plotting function so that we can observe the iterative process of our algorithm. We will design our k-means function so that it can receive a plotting function as an argument. By default the plotting function argument will be set to a function that does nothing. This way if a plotting function is not provided no plotting occurs."
   ]
  },
  {
   "cell_type": "code",
   "execution_count": 38,
   "metadata": {
    "deletable": false,
    "nbgrader": {
     "cell_type": "code",
     "checksum": "ab32e4e2728a320547245fd76ef79302",
     "grade": false,
     "grade_id": "cell-5f4d2973cfd064b3",
     "locked": false,
     "schema_version": 3,
     "solution": true,
     "task": false
    }
   },
   "outputs": [],
   "source": [
    "@max_allowed_loops(1)\n",
    "def k_means_clustering(\n",
    "    data: np.ndarray,\n",
    "    classes: np.ndarray,\n",
    "    n_steps: int = 1,\n",
    "    plotting: Callable = lambda *a, **k: None,  # a function that does nothing as default\n",
    ") -> Tuple[np.ndarray, np.ndarray]:\n",
    "    \"\"\"\n",
    "    Apply the k-means algorithm.\n",
    "    Initialize random clusters and apply the k-means algorithm `n_steps` times.\n",
    "    After the initialization and after each step a plotting function is called,\n",
    "    if no plotting function is provided then no plotting occurs\n",
    "\n",
    "    Args:\n",
    "        data (np.ndarray): The data to cluster\n",
    "        classes (np.ndarray): The correct label for each datapoint. Used only to \n",
    "        extract the number of clusters to calculate\n",
    "        n_steps (int, optional): The number of times to apply the algorithm. Defaults to\n",
    "        1.\n",
    "        plotting (Callable, optional): A function that can be visualize the progress of\n",
    "        the k-means algorithm. If no function is provided no plotting occurs.\n",
    "\n",
    "    Returns:\n",
    "        Tuple[np.ndarray, np.ndarray]: The calculated means and the assigned label of\n",
    "        each datapoint\n",
    "    \"\"\"\n",
    "    # step zero: initial means randomly and calculate\n",
    "    # distances and labels to random means\n",
    "    means, dist, labels = [None] * 3\n",
    "    # YOUR CODE HERE\n",
    "    \n",
    "    means = init_means(data, classes)\n",
    "    dist = distance(data, means)\n",
    "    labels = assign_labels(dist)\n",
    "    # YOUR CODE HERE\n",
    "    \n",
    "    # plot random assignment\n",
    "    plotting(data, labels, means, step=0)\n",
    "\n",
    "    # apply distance -> assignment -> means re-computation\n",
    "    # n_steps times\n",
    "    for n in range(n_steps):\n",
    "        # YOUR CODE HERE\n",
    "        dist = distance(data, means)\n",
    "        labels = assign_labels(dist)\n",
    "        means = recompute_means(data, labels)\n",
    "        # YOUR CODE HERE\n",
    "        \n",
    "        plotting(data, labels, means, step=n + 1)\n",
    "\n",
    "    return means, labels"
   ]
  },
  {
   "cell_type": "code",
   "execution_count": 39,
   "metadata": {
    "deletable": false,
    "editable": false,
    "nbgrader": {
     "cell_type": "code",
     "checksum": "4c303c0d5bdf46adac5fa169c717a777",
     "grade": true,
     "grade_id": "cell-3328128f29545c62",
     "locked": true,
     "points": 5,
     "schema_version": 3,
     "solution": false,
     "task": false
    }
   },
   "outputs": [],
   "source": [
    "cluster_means, cluster_labels = k_means_clustering(iris_norm, iris_classes_num)\n",
    "np.testing.assert_allclose(cluster_means.shape, (3, 2))\n"
   ]
  },
  {
   "cell_type": "code",
   "execution_count": null,
   "metadata": {
    "deletable": false,
    "editable": false,
    "nbgrader": {
     "cell_type": "code",
     "checksum": "2834725d4d18ae405f20f698e926a95e",
     "grade": true,
     "grade_id": "cell-d1ad328fbdc48a51",
     "locked": true,
     "points": 0,
     "schema_version": 3,
     "solution": false,
     "task": false
    }
   },
   "outputs": [],
   "source": []
  },
  {
   "cell_type": "markdown",
   "metadata": {
    "deletable": false,
    "editable": false,
    "nbgrader": {
     "cell_type": "markdown",
     "checksum": "ea4a05ecef3b38efb7f9b2d0eda820de",
     "grade": false,
     "grade_id": "cell-70593ffb1c51172d",
     "locked": true,
     "schema_version": 3,
     "solution": false,
     "task": false
    }
   },
   "source": [
    "# Exercise 3: Scatter plots of the clusters (30 Points)\n",
    "\n",
    "Create a function that plots a scatter plot of clustered data.\n",
    "* Label the x and y axis according to the `axis_names` passed to the function in the given fontsize `fs`.\n",
    "* Plot the data of each cluster in a scatter plot with an alpha value of 50% and a different color for each cluster.\n",
    "* Plot the passed cluster means (do not calculate new means) as crosses with markersize 10.\n",
    "* The title of the plot should be either \"Step 0\", \"Step 1\", \"Step 2\", etc. depending on the passed variable `step` and have a font size of 20.\n",
    "\n",
    "\n",
    "* Do __not__ hardcode this exercise. Assume __all__ variable passed to this function can vary, including the number of clusters.\n",
    "* Assign the the cluster colors __dynamically__, depending on the colors passed. E.g. if the variable `colors` is 'rgb' the first cluster is red, the second green, the third blue, etc.. (Do NOT hardcode this.)\n",
    "\n",
    "\n",
    "\n",
    "* Number of loops allowed in this exercise: 1\n",
    "\n",
    "<br>"
   ]
  },
  {
   "cell_type": "code",
   "execution_count": 40,
   "metadata": {
    "deletable": false,
    "editable": false,
    "nbgrader": {
     "cell_type": "code",
     "checksum": "9002d216a51841941cf2681555cc29a5",
     "grade": false,
     "grade_id": "cell-40947dd2898717b4",
     "locked": true,
     "schema_version": 3,
     "solution": false,
     "task": false
    }
   },
   "outputs": [],
   "source": [
    "import matplotlib.pyplot as plt\n",
    "%matplotlib inline"
   ]
  },
  {
   "cell_type": "code",
   "execution_count": 41,
   "metadata": {
    "deletable": false,
    "nbgrader": {
     "cell_type": "code",
     "checksum": "ea8b32101aaab5739f27d2e80b0f9e0a",
     "grade": true,
     "grade_id": "cell-86df630fae06b56b",
     "locked": false,
     "points": 30,
     "schema_version": 3,
     "solution": true,
     "task": false
    }
   },
   "outputs": [],
   "source": [
    "@max_allowed_loops(1)\n",
    "def plot_2d(\n",
    "    X: np.ndarray,\n",
    "    labels: np.ndarray,\n",
    "    means: np.ndarray,\n",
    "    axis_names: Sequence[str] = None,\n",
    "    fs: int = 12,\n",
    "    colors: str = \"rgb\",\n",
    "    step: int = 0,\n",
    ") -> None:\n",
    "    \"\"\"\n",
    "    Visualizes the state of the k-means algorithm\n",
    "\n",
    "    Args:\n",
    "        X (np.ndarray): The datapoints that are being clustered\n",
    "        labels (np.ndarray): The assigned cluster to each datapoint\n",
    "        means (np.ndarray): The cluster positions\n",
    "        axis_names (Sequence[str], optional): The names of the axes. Only used if not None.\n",
    "        Defaults to None.\n",
    "        fs (int, optional): The size of the axes fontsize. Defaults to 12.\n",
    "        colors (str, optional): The colors of each cluster. Defaults to \"rgb\".\n",
    "        step (int, optional): The step the k-means algorithm is currently in. Defaults to 0.\n",
    "    \"\"\"\n",
    "    # YOUR CODE HERE\n",
    "    #figure = plt.figure(figsize = )\n",
    "    \n",
    "    uniq = np.unique(labels)\n",
    "    \n",
    "    for k, i in enumerate(uniq):\n",
    "        C = X[labels == i]\n",
    "        plt.scatter(*C.T, alpha = 0.5, c = colors[k])\n",
    "    \n",
    "    plt.plot(*means.T, \"X\", ms = 10)  \n",
    "    \n",
    "    plt.title(f\"Step {step}\", fontsize = 20)\n",
    "    \n",
    "    if axis_names is not None:\n",
    "        plt.xlabel(axis_names[0], fontsize = fs)\n",
    "        plt.ylabel(axis_names[1], fontsize = fs)\n",
    "    # YOUR CODE HERE\n",
    "    \n",
    "\n",
    "    plt.show()"
   ]
  },
  {
   "cell_type": "code",
   "execution_count": 42,
   "metadata": {
    "deletable": false,
    "editable": false,
    "nbgrader": {
     "cell_type": "code",
     "checksum": "24baa72712196bcc8ebc7a9204f760bc",
     "grade": false,
     "grade_id": "cell-f0c56b3807c382d1",
     "locked": true,
     "schema_version": 3,
     "solution": false,
     "task": false
    }
   },
   "outputs": [
    {
     "data": {
      "image/png": "[encoded data removed]",
      "text/plain": [
       "<Figure size 432x288 with 1 Axes>"
      ]
     },
     "metadata": {
      "needs_background": "light"
     },
     "output_type": "display_data"
    }
   ],
   "source": [
    "# plot the \"correct\" clustering using the labels provided in the file\n",
    "plot_2d(iris_norm, iris_classes_num, recompute_means(iris_norm, iris_classes_num));"
   ]
  },
  {
   "cell_type": "code",
   "execution_count": 43,
   "metadata": {
    "deletable": false,
    "editable": false,
    "nbgrader": {
     "cell_type": "code",
     "checksum": "5299f9444e2b88fbecea7eae7d6d739e",
     "grade": false,
     "grade_id": "cell-6f07e3df667d6afc",
     "locked": true,
     "schema_version": 3,
     "solution": false,
     "task": false
    }
   },
   "outputs": [
    {
     "data": {
      "image/png": "[encoded data removed]",
      "text/plain": [
       "<Figure size 432x288 with 1 Axes>"
      ]
     },
     "metadata": {
      "needs_background": "light"
     },
     "output_type": "display_data"
    },
    {
     "data": {
      "image/png": "[encoded data removed]",
      "text/plain": [
       "<Figure size 432x288 with 1 Axes>"
      ]
     },
     "metadata": {
      "needs_background": "light"
     },
     "output_type": "display_data"
    },
    {
     "data": {
      "image/png": "[encoded data removed]",
      "text/plain": [
       "<Figure size 432x288 with 1 Axes>"
      ]
     },
     "metadata": {
      "needs_background": "light"
     },
     "output_type": "display_data"
    },
    {
     "data": {
      "image/png": "[encoded data removed]",
      "text/plain": [
       "<Figure size 432x288 with 1 Axes>"
      ]
     },
     "metadata": {
      "needs_background": "light"
     },
     "output_type": "display_data"
    },
    {
     "data": {
      "image/png": "[encoded data removed]",
      "text/plain": [
       "<Figure size 432x288 with 1 Axes>"
      ]
     },
     "metadata": {
      "needs_background": "light"
     },
     "output_type": "display_data"
    },
    {
     "data": {
      "image/png": "[encoded data removed]",
      "text/plain": [
       "<Figure size 432x288 with 1 Axes>"
      ]
     },
     "metadata": {
      "needs_background": "light"
     },
     "output_type": "display_data"
    }
   ],
   "source": [
    "# Run K-means algorithm for 5 steps\n",
    "means, labels = k_means_clustering(\n",
    "    iris_norm, iris_classes_num, n_steps=5, plotting=plot_2d\n",
    ")"
   ]
  },
  {
   "cell_type": "code",
   "execution_count": null,
   "metadata": {},
   "outputs": [],
   "source": []
  }
 ],
 "metadata": {
  "kernelspec": {
   "display_name": "Python 3",
   "language": "python",
   "name": "python3"
  },
  "language_info": {
   "codemirror_mode": {
    "name": "ipython",
    "version": 3
   },
   "file_extension": ".py",
   "mimetype": "text/x-python",
   "name": "python",
   "nbconvert_exporter": "python",
   "pygments_lexer": "ipython3",
   "version": "3.7.6"
  }
 },
 "nbformat": 4,
 "nbformat_minor": 2
}
